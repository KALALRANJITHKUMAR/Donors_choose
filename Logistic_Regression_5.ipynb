{
 "cells": [
  {
   "cell_type": "markdown",
   "metadata": {},
   "source": [
    "# Install and Import the libraries"
   ]
  },
  {
   "cell_type": "code",
   "execution_count": 1,
   "metadata": {
    "colab": {},
    "colab_type": "code",
    "id": "WYc6HHlbjEBy"
   },
   "outputs": [],
   "source": [
    "%matplotlib inline\n",
    "import warnings\n",
    "warnings.filterwarnings(\"ignore\",category=UserWarning)\n",
    "\n",
    "# Data Manipulation libraries\n",
    "import pandas as pd\n",
    "import numpy as np\n",
    "\n",
    "#Plotting libraries\n",
    "import matplotlib.pyplot as plt\n",
    "import seaborn as sns\n",
    "\n",
    "# Estimators and metrics\n",
    "\n",
    "from sklearn.preprocessing import Normalizer\n",
    "from sklearn.feature_extraction.text import CountVectorizer,TfidfTransformer,TfidfVectorizer\n",
    "from sklearn.model_selection import train_test_split,GridSearchCV,RandomizedSearchCV,cross_validate\n",
    "from sklearn.linear_model import LogisticRegression,SGDClassifier\n",
    "from sklearn.metrics import confusion_matrix,roc_curve,auc,roc_auc_score,accuracy_score\n",
    "\n",
    "# NLP libraries\n",
    "import nltk\n",
    "from nltk.corpus import stopwords\n",
    "from gensim.models import Word2Vec,KeyedVectors\n",
    "\n",
    "import re\n",
    "import pickle\n",
    "\n",
    "from tqdm import tqdm\n",
    "from collections import Counter\n",
    "from scipy.sparse import hstack\n",
    "#Code Reference: https://ptable.readthedocs.io/en/latest/tutorial.html\n",
    "from prettytable import PrettyTable\n"
   ]
  },
  {
   "cell_type": "code",
   "execution_count": 2,
   "metadata": {
    "colab": {},
    "colab_type": "code",
    "id": "VyQLAV5YjEB3"
   },
   "outputs": [],
   "source": [
    "# Read the data into Pandas Dataframe\n",
    "\n",
    "project_data= pd.read_csv('../train_data.csv')\n",
    "resource_data = pd.read_csv('../resources.csv')"
   ]
  },
  {
   "cell_type": "code",
   "execution_count": 3,
   "metadata": {
    "colab": {},
    "colab_type": "code",
    "id": "03I1DZPcjEB6"
   },
   "outputs": [
    {
     "name": "stdout",
     "output_type": "stream",
     "text": [
      "Number of data points in the  Train dataset : 109248\n",
      "-----------------------------------------------------\n",
      "Number of features in the Train dataset : 17\n",
      "-----------------------------------------------------\n",
      "List of Features in the Train dataset:\n",
      " ['Unnamed: 0', 'id', 'teacher_id', 'teacher_prefix', 'school_state', 'project_submitted_datetime', 'project_grade_category', 'project_subject_categories', 'project_subject_subcategories', 'project_title', 'project_essay_1', 'project_essay_2', 'project_essay_3', 'project_essay_4', 'project_resource_summary', 'teacher_number_of_previously_posted_projects', 'project_is_approved']\n"
     ]
    }
   ],
   "source": [
    "print('Number of data points in the  Train dataset :',project_data.shape[0])\n",
    "print(\"-\"*53)\n",
    "print('Number of features in the Train dataset :',project_data.shape[1])\n",
    "print(\"-\"*53)\n",
    "print(\"List of Features in the Train dataset:\\n\",project_data.columns.values.tolist())"
   ]
  },
  {
   "cell_type": "code",
   "execution_count": 4,
   "metadata": {
    "colab": {},
    "colab_type": "code",
    "id": "5jW2yVh0jEB_"
   },
   "outputs": [
    {
     "name": "stdout",
     "output_type": "stream",
     "text": [
      "Number of data points in the  Resourse dataset : 1541272\n",
      "-------------------------------------------------------\n",
      "Number of features in the Resourse dataset : 4\n",
      "-------------------------------------------------------\n",
      "List of Features in the Resourse dataset: ['id', 'description', 'quantity', 'price']\n"
     ]
    }
   ],
   "source": [
    "print('Number of data points in the  Resourse dataset :',resource_data.shape[0])\n",
    "print(\"-\"*55)\n",
    "print('Number of features in the Resourse dataset :',resource_data.shape[1])\n",
    "print(\"-\"*55)\n",
    "print(\"List of Features in the Resourse dataset:\",resource_data.columns.values.tolist())"
   ]
  },
  {
   "cell_type": "code",
   "execution_count": 5,
   "metadata": {
    "colab": {},
    "colab_type": "code",
    "id": "yqiILCPOjECF"
   },
   "outputs": [],
   "source": [
    "cols=['Date' if each_col=='project_submitted_datetime' else each_col for each_col in project_data.columns.values.tolist()] \n",
    "\n",
    "project_data['Date']=pd.to_datetime(project_data['project_submitted_datetime'])\n",
    "project_data.drop('project_submitted_datetime',axis=1,inplace=True)\n",
    "project_data.sort_values(by=['Date'],inplace=True)"
   ]
  },
  {
   "cell_type": "code",
   "execution_count": 6,
   "metadata": {
    "colab": {},
    "colab_type": "code",
    "id": "iNrtHguEjECJ"
   },
   "outputs": [
    {
     "name": "stdout",
     "output_type": "stream",
     "text": [
      "Sample records from  Training data \n"
     ]
    },
    {
     "data": {
      "text/html": [
       "<div>\n",
       "<style scoped>\n",
       "    .dataframe tbody tr th:only-of-type {\n",
       "        vertical-align: middle;\n",
       "    }\n",
       "\n",
       "    .dataframe tbody tr th {\n",
       "        vertical-align: top;\n",
       "    }\n",
       "\n",
       "    .dataframe thead th {\n",
       "        text-align: right;\n",
       "    }\n",
       "</style>\n",
       "<table border=\"1\" class=\"dataframe\">\n",
       "  <thead>\n",
       "    <tr style=\"text-align: right;\">\n",
       "      <th></th>\n",
       "      <th>Unnamed: 0</th>\n",
       "      <th>id</th>\n",
       "      <th>teacher_id</th>\n",
       "      <th>teacher_prefix</th>\n",
       "      <th>school_state</th>\n",
       "      <th>Date</th>\n",
       "      <th>project_grade_category</th>\n",
       "      <th>project_subject_categories</th>\n",
       "      <th>project_subject_subcategories</th>\n",
       "      <th>project_title</th>\n",
       "      <th>project_essay_1</th>\n",
       "      <th>project_essay_2</th>\n",
       "      <th>project_essay_3</th>\n",
       "      <th>project_essay_4</th>\n",
       "      <th>project_resource_summary</th>\n",
       "      <th>teacher_number_of_previously_posted_projects</th>\n",
       "      <th>project_is_approved</th>\n",
       "    </tr>\n",
       "  </thead>\n",
       "  <tbody>\n",
       "    <tr>\n",
       "      <th>55660</th>\n",
       "      <td>8393</td>\n",
       "      <td>p205479</td>\n",
       "      <td>2bf07ba08945e5d8b2a3f269b2b3cfe5</td>\n",
       "      <td>Mrs.</td>\n",
       "      <td>CA</td>\n",
       "      <td>2016-04-27 00:27:36</td>\n",
       "      <td>Grades PreK-2</td>\n",
       "      <td>Math &amp; Science</td>\n",
       "      <td>Applied Sciences, Health &amp; Life Science</td>\n",
       "      <td>Engineering STEAM into the Primary Classroom</td>\n",
       "      <td>I have been fortunate enough to use the Fairy ...</td>\n",
       "      <td>My students come from a variety of backgrounds...</td>\n",
       "      <td>Each month I try to do several science or STEM...</td>\n",
       "      <td>It is challenging to develop high quality scie...</td>\n",
       "      <td>My students need STEM kits to learn critical s...</td>\n",
       "      <td>53</td>\n",
       "      <td>1</td>\n",
       "    </tr>\n",
       "    <tr>\n",
       "      <th>76127</th>\n",
       "      <td>37728</td>\n",
       "      <td>p043609</td>\n",
       "      <td>3f60494c61921b3b43ab61bdde2904df</td>\n",
       "      <td>Ms.</td>\n",
       "      <td>UT</td>\n",
       "      <td>2016-04-27 00:31:25</td>\n",
       "      <td>Grades 3-5</td>\n",
       "      <td>Special Needs</td>\n",
       "      <td>Special Needs</td>\n",
       "      <td>Sensory Tools for Focus</td>\n",
       "      <td>Imagine being 8-9 years old. You're in your th...</td>\n",
       "      <td>Most of my students have autism, anxiety, anot...</td>\n",
       "      <td>It is tough to do more than one thing at a tim...</td>\n",
       "      <td>When my students are able to calm themselves d...</td>\n",
       "      <td>My students need Boogie Boards for quiet senso...</td>\n",
       "      <td>4</td>\n",
       "      <td>1</td>\n",
       "    </tr>\n",
       "    <tr>\n",
       "      <th>51140</th>\n",
       "      <td>74477</td>\n",
       "      <td>p189804</td>\n",
       "      <td>4a97f3a390bfe21b99cf5e2b81981c73</td>\n",
       "      <td>Mrs.</td>\n",
       "      <td>CA</td>\n",
       "      <td>2016-04-27 00:46:53</td>\n",
       "      <td>Grades PreK-2</td>\n",
       "      <td>Literacy &amp; Language</td>\n",
       "      <td>Literacy</td>\n",
       "      <td>Mobile Learning with a Mobile Listening Center</td>\n",
       "      <td>Having a class of 24 students comes with diver...</td>\n",
       "      <td>I have a class of twenty-four kindergarten stu...</td>\n",
       "      <td>By having a mobile listening and storage cente...</td>\n",
       "      <td>A mobile listening center will help keep equip...</td>\n",
       "      <td>My students need a mobile listening center to ...</td>\n",
       "      <td>10</td>\n",
       "      <td>1</td>\n",
       "    </tr>\n",
       "    <tr>\n",
       "      <th>473</th>\n",
       "      <td>100660</td>\n",
       "      <td>p234804</td>\n",
       "      <td>cbc0e38f522143b86d372f8b43d4cff3</td>\n",
       "      <td>Mrs.</td>\n",
       "      <td>GA</td>\n",
       "      <td>2016-04-27 00:53:00</td>\n",
       "      <td>Grades PreK-2</td>\n",
       "      <td>Applied Learning</td>\n",
       "      <td>Early Development</td>\n",
       "      <td>Flexible Seating for Flexible Learning</td>\n",
       "      <td>I recently read an article about giving studen...</td>\n",
       "      <td>I teach at a low-income (Title 1) school. Ever...</td>\n",
       "      <td>We need a classroom rug that we can use as a c...</td>\n",
       "      <td>Benjamin Franklin once said, \\\"Tell me and I f...</td>\n",
       "      <td>My students need flexible seating in the class...</td>\n",
       "      <td>2</td>\n",
       "      <td>1</td>\n",
       "    </tr>\n",
       "    <tr>\n",
       "      <th>41558</th>\n",
       "      <td>33679</td>\n",
       "      <td>p137682</td>\n",
       "      <td>06f6e62e17de34fcf81020c77549e1d5</td>\n",
       "      <td>Mrs.</td>\n",
       "      <td>WA</td>\n",
       "      <td>2016-04-27 01:05:25</td>\n",
       "      <td>Grades 3-5</td>\n",
       "      <td>Literacy &amp; Language</td>\n",
       "      <td>Literacy</td>\n",
       "      <td>Going Deep: The Art of Inner Thinking!</td>\n",
       "      <td>My students crave challenge, they eat obstacle...</td>\n",
       "      <td>We are an urban, public k-5 elementary school....</td>\n",
       "      <td>With the new common core standards that have b...</td>\n",
       "      <td>These remarkable gifts will provide students w...</td>\n",
       "      <td>My students need copies of the New York Times ...</td>\n",
       "      <td>2</td>\n",
       "      <td>1</td>\n",
       "    </tr>\n",
       "  </tbody>\n",
       "</table>\n",
       "</div>"
      ],
      "text/plain": [
       "       Unnamed: 0       id                        teacher_id teacher_prefix  \\\n",
       "55660        8393  p205479  2bf07ba08945e5d8b2a3f269b2b3cfe5           Mrs.   \n",
       "76127       37728  p043609  3f60494c61921b3b43ab61bdde2904df            Ms.   \n",
       "51140       74477  p189804  4a97f3a390bfe21b99cf5e2b81981c73           Mrs.   \n",
       "473        100660  p234804  cbc0e38f522143b86d372f8b43d4cff3           Mrs.   \n",
       "41558       33679  p137682  06f6e62e17de34fcf81020c77549e1d5           Mrs.   \n",
       "\n",
       "      school_state                Date project_grade_category  \\\n",
       "55660           CA 2016-04-27 00:27:36          Grades PreK-2   \n",
       "76127           UT 2016-04-27 00:31:25             Grades 3-5   \n",
       "51140           CA 2016-04-27 00:46:53          Grades PreK-2   \n",
       "473             GA 2016-04-27 00:53:00          Grades PreK-2   \n",
       "41558           WA 2016-04-27 01:05:25             Grades 3-5   \n",
       "\n",
       "      project_subject_categories            project_subject_subcategories  \\\n",
       "55660             Math & Science  Applied Sciences, Health & Life Science   \n",
       "76127              Special Needs                            Special Needs   \n",
       "51140        Literacy & Language                                 Literacy   \n",
       "473             Applied Learning                        Early Development   \n",
       "41558        Literacy & Language                                 Literacy   \n",
       "\n",
       "                                        project_title  \\\n",
       "55660    Engineering STEAM into the Primary Classroom   \n",
       "76127                         Sensory Tools for Focus   \n",
       "51140  Mobile Learning with a Mobile Listening Center   \n",
       "473            Flexible Seating for Flexible Learning   \n",
       "41558          Going Deep: The Art of Inner Thinking!   \n",
       "\n",
       "                                         project_essay_1  \\\n",
       "55660  I have been fortunate enough to use the Fairy ...   \n",
       "76127  Imagine being 8-9 years old. You're in your th...   \n",
       "51140  Having a class of 24 students comes with diver...   \n",
       "473    I recently read an article about giving studen...   \n",
       "41558  My students crave challenge, they eat obstacle...   \n",
       "\n",
       "                                         project_essay_2  \\\n",
       "55660  My students come from a variety of backgrounds...   \n",
       "76127  Most of my students have autism, anxiety, anot...   \n",
       "51140  I have a class of twenty-four kindergarten stu...   \n",
       "473    I teach at a low-income (Title 1) school. Ever...   \n",
       "41558  We are an urban, public k-5 elementary school....   \n",
       "\n",
       "                                         project_essay_3  \\\n",
       "55660  Each month I try to do several science or STEM...   \n",
       "76127  It is tough to do more than one thing at a tim...   \n",
       "51140  By having a mobile listening and storage cente...   \n",
       "473    We need a classroom rug that we can use as a c...   \n",
       "41558  With the new common core standards that have b...   \n",
       "\n",
       "                                         project_essay_4  \\\n",
       "55660  It is challenging to develop high quality scie...   \n",
       "76127  When my students are able to calm themselves d...   \n",
       "51140  A mobile listening center will help keep equip...   \n",
       "473    Benjamin Franklin once said, \\\"Tell me and I f...   \n",
       "41558  These remarkable gifts will provide students w...   \n",
       "\n",
       "                                project_resource_summary  \\\n",
       "55660  My students need STEM kits to learn critical s...   \n",
       "76127  My students need Boogie Boards for quiet senso...   \n",
       "51140  My students need a mobile listening center to ...   \n",
       "473    My students need flexible seating in the class...   \n",
       "41558  My students need copies of the New York Times ...   \n",
       "\n",
       "       teacher_number_of_previously_posted_projects  project_is_approved  \n",
       "55660                                            53                    1  \n",
       "76127                                             4                    1  \n",
       "51140                                            10                    1  \n",
       "473                                               2                    1  \n",
       "41558                                             2                    1  "
      ]
     },
     "execution_count": 6,
     "metadata": {},
     "output_type": "execute_result"
    }
   ],
   "source": [
    "project_data=project_data[cols]\n",
    "\n",
    "print(\"Sample records from  Training data \")\n",
    "project_data.head()"
   ]
  },
  {
   "cell_type": "code",
   "execution_count": 7,
   "metadata": {
    "colab": {},
    "colab_type": "code",
    "id": "PquGVs-FjECN"
   },
   "outputs": [
    {
     "name": "stdout",
     "output_type": "stream",
     "text": [
      "Sample records from  Resourse data \n"
     ]
    },
    {
     "data": {
      "text/html": [
       "<div>\n",
       "<style scoped>\n",
       "    .dataframe tbody tr th:only-of-type {\n",
       "        vertical-align: middle;\n",
       "    }\n",
       "\n",
       "    .dataframe tbody tr th {\n",
       "        vertical-align: top;\n",
       "    }\n",
       "\n",
       "    .dataframe thead th {\n",
       "        text-align: right;\n",
       "    }\n",
       "</style>\n",
       "<table border=\"1\" class=\"dataframe\">\n",
       "  <thead>\n",
       "    <tr style=\"text-align: right;\">\n",
       "      <th></th>\n",
       "      <th>id</th>\n",
       "      <th>description</th>\n",
       "      <th>quantity</th>\n",
       "      <th>price</th>\n",
       "    </tr>\n",
       "  </thead>\n",
       "  <tbody>\n",
       "    <tr>\n",
       "      <th>0</th>\n",
       "      <td>p233245</td>\n",
       "      <td>LC652 - Lakeshore Double-Space Mobile Drying Rack</td>\n",
       "      <td>1</td>\n",
       "      <td>149.00</td>\n",
       "    </tr>\n",
       "    <tr>\n",
       "      <th>1</th>\n",
       "      <td>p069063</td>\n",
       "      <td>Bouncy Bands for Desks (Blue support pipes)</td>\n",
       "      <td>3</td>\n",
       "      <td>14.95</td>\n",
       "    </tr>\n",
       "    <tr>\n",
       "      <th>2</th>\n",
       "      <td>p069063</td>\n",
       "      <td>Cory Stories: A Kid's Book About Living With Adhd</td>\n",
       "      <td>1</td>\n",
       "      <td>8.45</td>\n",
       "    </tr>\n",
       "    <tr>\n",
       "      <th>3</th>\n",
       "      <td>p069063</td>\n",
       "      <td>Dixon Ticonderoga Wood-Cased #2 HB Pencils, Bo...</td>\n",
       "      <td>2</td>\n",
       "      <td>13.59</td>\n",
       "    </tr>\n",
       "    <tr>\n",
       "      <th>4</th>\n",
       "      <td>p069063</td>\n",
       "      <td>EDUCATIONAL INSIGHTS FLUORESCENT LIGHT FILTERS...</td>\n",
       "      <td>3</td>\n",
       "      <td>24.95</td>\n",
       "    </tr>\n",
       "  </tbody>\n",
       "</table>\n",
       "</div>"
      ],
      "text/plain": [
       "        id                                        description  quantity  \\\n",
       "0  p233245  LC652 - Lakeshore Double-Space Mobile Drying Rack         1   \n",
       "1  p069063        Bouncy Bands for Desks (Blue support pipes)         3   \n",
       "2  p069063  Cory Stories: A Kid's Book About Living With Adhd         1   \n",
       "3  p069063  Dixon Ticonderoga Wood-Cased #2 HB Pencils, Bo...         2   \n",
       "4  p069063  EDUCATIONAL INSIGHTS FLUORESCENT LIGHT FILTERS...         3   \n",
       "\n",
       "    price  \n",
       "0  149.00  \n",
       "1   14.95  \n",
       "2    8.45  \n",
       "3   13.59  \n",
       "4   24.95  "
      ]
     },
     "execution_count": 7,
     "metadata": {},
     "output_type": "execute_result"
    }
   ],
   "source": [
    "print(\"Sample records from  Resourse data \")\n",
    "resource_data.head()"
   ]
  },
  {
   "cell_type": "markdown",
   "metadata": {},
   "source": [
    "#  Data Analysis"
   ]
  },
  {
   "cell_type": "code",
   "execution_count": 8,
   "metadata": {},
   "outputs": [],
   "source": [
    "def check_class_bal(dataset,target_class):\n",
    "    count_per_class=list(dataset[target_class].value_counts())\n",
    "    classes=list(dataset[target_class].value_counts().index)\n",
    "    \n",
    "    print(\"Ratio of the classes :\")\n",
    "    \n",
    "    for each_cls,cls_count in zip(classes,count_per_class):\n",
    "        print(\"Class {} has {} records with a ratio of {}%\".\n",
    "              format(each_cls,cls_count,np.round((cls_count/dataset.shape[0]*100),2)))\n",
    "        \n",
    "    plt.bar(classes,count_per_class,color=['b','r'])\n",
    "    plt.xticks(classes)\n",
    "    plt.ylabel(\"Count\")\n",
    "    plt.xlabel(\"Classes\")\n",
    "    plt.title(\"Plot for Data Imbalance\")\n",
    "    plt.show()\n",
    "    \n",
    "    del classes\n",
    "    del count_per_class"
   ]
  },
  {
   "cell_type": "code",
   "execution_count": 9,
   "metadata": {},
   "outputs": [
    {
     "name": "stdout",
     "output_type": "stream",
     "text": [
      "Ratio of the classes :\n",
      "Class 1 has 92706 records with a ratio of 84.86%\n",
      "Class 0 has 16542 records with a ratio of 15.14%\n"
     ]
    },
    {
     "data": {
      "image/png": "[encoded data removed]",
      "text/plain": [
       "<Figure size 432x288 with 1 Axes>"
      ]
     },
     "metadata": {},
     "output_type": "display_data"
    }
   ],
   "source": [
    "check_class_bal(project_data,'project_is_approved')"
   ]
  },
  {
   "cell_type": "markdown",
   "metadata": {
    "colab_type": "text",
    "id": "Sz3G_MFujECQ"
   },
   "source": [
    "# Data Preprocessing"
   ]
  },
  {
   "cell_type": "markdown",
   "metadata": {},
   "source": [
    "## chek for null values"
   ]
  },
  {
   "cell_type": "code",
   "execution_count": 10,
   "metadata": {},
   "outputs": [
    {
     "name": "stdout",
     "output_type": "stream",
     "text": [
      "Null values from Train data :\n",
      "\n",
      "Unnamed: 0                                           0\n",
      "id                                                   0\n",
      "teacher_id                                           0\n",
      "teacher_prefix                                       3\n",
      "school_state                                         0\n",
      "Date                                                 0\n",
      "project_grade_category                               0\n",
      "project_subject_categories                           0\n",
      "project_subject_subcategories                        0\n",
      "project_title                                        0\n",
      "project_essay_1                                      0\n",
      "project_essay_2                                      0\n",
      "project_essay_3                                 105490\n",
      "project_essay_4                                 105490\n",
      "project_resource_summary                             0\n",
      "teacher_number_of_previously_posted_projects         0\n",
      "project_is_approved                                  0\n",
      "dtype: int64\n"
     ]
    }
   ],
   "source": [
    "print(\"Null values from Train data :\\n\")\n",
    "print(project_data.isnull().sum())"
   ]
  },
  {
   "cell_type": "code",
   "execution_count": 11,
   "metadata": {},
   "outputs": [],
   "source": [
    "project_data['teacher_prefix'].fillna(method='ffill',inplace=True)"
   ]
  },
  {
   "cell_type": "code",
   "execution_count": 12,
   "metadata": {},
   "outputs": [],
   "source": [
    "project_data['essay']=project_data.project_essay_1.map(str)+\\\n",
    "project_data.project_essay_2.map(str)+\\\n",
    "project_data.project_essay_3.map(str)+\\\n",
    "project_data.project_essay_4.map(str)\n"
   ]
  },
  {
   "cell_type": "code",
   "execution_count": 13,
   "metadata": {},
   "outputs": [],
   "source": [
    "project_data.drop(columns=['project_essay_1','project_essay_2',\n",
    "                           'project_essay_3','project_essay_4'],axis=1,inplace=True)"
   ]
  },
  {
   "cell_type": "code",
   "execution_count": 14,
   "metadata": {},
   "outputs": [
    {
     "data": {
      "text/plain": [
       "Unnamed: 0                                      0\n",
       "id                                              0\n",
       "teacher_id                                      0\n",
       "teacher_prefix                                  0\n",
       "school_state                                    0\n",
       "Date                                            0\n",
       "project_grade_category                          0\n",
       "project_subject_categories                      0\n",
       "project_subject_subcategories                   0\n",
       "project_title                                   0\n",
       "project_resource_summary                        0\n",
       "teacher_number_of_previously_posted_projects    0\n",
       "project_is_approved                             0\n",
       "essay                                           0\n",
       "dtype: int64"
      ]
     },
     "execution_count": 14,
     "metadata": {},
     "output_type": "execute_result"
    }
   ],
   "source": [
    "project_data.isnull().sum()"
   ]
  },
  {
   "cell_type": "code",
   "execution_count": 15,
   "metadata": {},
   "outputs": [
    {
     "name": "stdout",
     "output_type": "stream",
     "text": [
      "Null values from Train data :\n",
      "\n",
      "id               0\n",
      "description    292\n",
      "quantity         0\n",
      "price            0\n",
      "dtype: int64\n"
     ]
    }
   ],
   "source": [
    "print(\"Null values from Train data :\\n\")\n",
    "print(resource_data.isnull().sum())\n"
   ]
  },
  {
   "cell_type": "code",
   "execution_count": 16,
   "metadata": {},
   "outputs": [],
   "source": [
    "resource_data['description'].fillna(method='ffill',inplace=True)"
   ]
  },
  {
   "cell_type": "code",
   "execution_count": 17,
   "metadata": {},
   "outputs": [
    {
     "data": {
      "text/plain": [
       "id             0\n",
       "description    0\n",
       "quantity       0\n",
       "price          0\n",
       "dtype: int64"
      ]
     },
     "execution_count": 17,
     "metadata": {},
     "output_type": "execute_result"
    }
   ],
   "source": [
    "resource_data.isnull().sum()"
   ]
  },
  {
   "cell_type": "markdown",
   "metadata": {},
   "source": [
    "## Text Pre-processing"
   ]
  },
  {
   "cell_type": "code",
   "execution_count": 18,
   "metadata": {
    "colab": {},
    "colab_type": "code",
    "id": "tvkxONNSjECS"
   },
   "outputs": [],
   "source": [
    "def processed_list(list_elements):\n",
    "    processed_list=[]\n",
    "    for i in list_elements:\n",
    "        temp=''\n",
    "        for j in i.split(','):\n",
    "            if 'The' in j.split():\n",
    "                j=j.replace('The','')\n",
    "            j=j.replace(' ','')\n",
    "            temp+=j.strip()+' '\n",
    "            temp=temp.replace('&','_')\n",
    "        processed_list.append(temp.strip())\n",
    "    return processed_list"
   ]
  },
  {
   "cell_type": "code",
   "execution_count": 19,
   "metadata": {
    "colab": {},
    "colab_type": "code",
    "id": "4hz5BE9EjECY"
   },
   "outputs": [],
   "source": [
    "def get_sorted_dic(col):\n",
    "    my_Counter=Counter() \n",
    "    for word in list(project_data[col]):\n",
    "        my_Counter.update(word.split())   \n",
    "    count_dict=dict(my_Counter)\n",
    "    return dict(sorted(count_dict.items(),key=lambda x: x[1]))\n",
    "    "
   ]
  },
  {
   "cell_type": "markdown",
   "metadata": {
    "colab_type": "text",
    "id": "119lLZsyjECc"
   },
   "source": [
    "### project_subject_categories"
   ]
  },
  {
   "cell_type": "code",
   "execution_count": 20,
   "metadata": {
    "colab": {},
    "colab_type": "code",
    "id": "DJRG2uRPjECd"
   },
   "outputs": [],
   "source": [
    "clean_categories=processed_list(list(project_data['project_subject_categories']))\n",
    "project_data['clean_categories']=clean_categories\n",
    "project_data.drop(['project_subject_categories'],axis=1,inplace=True)\n",
    "sorted_cat_dict=get_sorted_dic('clean_categories')"
   ]
  },
  {
   "cell_type": "markdown",
   "metadata": {
    "colab_type": "text",
    "id": "gxLF_WQojECg"
   },
   "source": [
    "### project_subject_subcategories"
   ]
  },
  {
   "cell_type": "code",
   "execution_count": 21,
   "metadata": {
    "colab": {},
    "colab_type": "code",
    "id": "XylEm6lnjECi"
   },
   "outputs": [],
   "source": [
    "clean_sub_categories=processed_list(list(project_data['project_subject_subcategories']))\n",
    "project_data['clean_sub_categories']=clean_sub_categories\n",
    "project_data.drop(['project_subject_subcategories'],axis=1,inplace=True)\n",
    "sorted_subcat_dict=get_sorted_dic('clean_sub_categories')"
   ]
  },
  {
   "cell_type": "markdown",
   "metadata": {
    "colab_type": "text",
    "id": "UWLieL1ojECl"
   },
   "source": [
    "### essay"
   ]
  },
  {
   "cell_type": "code",
   "execution_count": 22,
   "metadata": {
    "colab": {},
    "colab_type": "code",
    "id": "BnkottfdjECu"
   },
   "outputs": [],
   "source": [
    "def decontracted(phrase):\n",
    "    # specific\n",
    "    phrase = re.sub(r\"won't\", \"will not\", phrase)\n",
    "    phrase = re.sub(r\"can\\'t\", \"can not\", phrase)\n",
    "\n",
    "    # general\n",
    "    phrase = re.sub(r\"n\\'t\", \" not\", phrase)\n",
    "    phrase = re.sub(r\"\\'re\", \" are\", phrase)\n",
    "    phrase = re.sub(r\"\\'s\", \" is\", phrase)\n",
    "    phrase = re.sub(r\"\\'d\", \" would\", phrase)\n",
    "    phrase = re.sub(r\"\\'ll\", \" will\", phrase)\n",
    "    phrase = re.sub(r\"\\'t\", \" not\", phrase)\n",
    "    phrase = re.sub(r\"\\'ve\", \" have\", phrase)\n",
    "    phrase = re.sub(r\"\\'m\", \" am\", phrase)\n",
    "    return phrase"
   ]
  },
  {
   "cell_type": "code",
   "execution_count": 23,
   "metadata": {
    "colab": {},
    "colab_type": "code",
    "id": "zPg5B-lOjECy"
   },
   "outputs": [],
   "source": [
    "# https://gist.github.com/sebleier/554280\n",
    "# we are removing the words from the stop words list: 'no', 'nor', 'not'\n",
    "stopwords= ['i', 'me', 'my', 'myself', 'we', 'our', 'ours', 'ourselves', 'you', \"you're\", \"you've\",\\\n",
    "            \"you'll\", \"you'd\", 'your', 'yours', 'yourself', 'yourselves', 'he', 'him', 'his', 'himself', \\\n",
    "            'she', \"she's\", 'her', 'hers', 'herself', 'it', \"it's\", 'its', 'itself', 'they', 'them', 'their',\\\n",
    "            'theirs', 'themselves', 'what', 'which', 'who', 'whom', 'this', 'that', \"that'll\", 'these', 'those', \\\n",
    "            'am', 'is', 'are', 'was', 'were', 'be', 'been', 'being', 'have', 'has', 'had', 'having', 'do', 'does', \\\n",
    "            'did', 'doing', 'a', 'an', 'the', 'and', 'but', 'if', 'or', 'because', 'as', 'until', 'while', 'of', \\\n",
    "            'at', 'by', 'for', 'with', 'about', 'against', 'between', 'into', 'through', 'during', 'before', 'after',\\\n",
    "            'above', 'below', 'to', 'from', 'up', 'down', 'in', 'out', 'on', 'off', 'over', 'under', 'again', 'further',\\\n",
    "            'then', 'once', 'here', 'there', 'when', 'where', 'why', 'how', 'all', 'any', 'both', 'each', 'few', 'more',\\\n",
    "            'most', 'other', 'some', 'such', 'only', 'own', 'same', 'so', 'than', 'too', 'very', \\\n",
    "            's', 't', 'can', 'will', 'just', 'don', \"don't\", 'should', \"should've\", 'now', 'd', 'll', 'm', 'o', 're', \\\n",
    "            've', 'y', 'ain', 'aren', \"aren't\", 'couldn', \"couldn't\", 'didn', \"didn't\", 'doesn', \"doesn't\", 'hadn',\\\n",
    "            \"hadn't\", 'hasn', \"hasn't\", 'haven', \"haven't\", 'isn', \"isn't\", 'ma', 'mightn', \"mightn't\", 'mustn',\\\n",
    "            \"mustn't\", 'needn', \"needn't\", 'shan', \"shan't\", 'shouldn', \"shouldn't\", 'wasn', \"wasn't\", 'weren', \"weren't\", \\\n",
    "            'won', \"won't\", 'wouldn', \"wouldn't\"]"
   ]
  },
  {
   "cell_type": "code",
   "execution_count": 24,
   "metadata": {
    "colab": {},
    "colab_type": "code",
    "id": "PhPVtZDbjEC1"
   },
   "outputs": [],
   "source": [
    "def text_processing(dataset,feature_name):\n",
    "    processed_text = []\n",
    "    # tqdm is for printing the status bar\n",
    "    for sentance in tqdm(dataset[feature_name].values):\n",
    "        sent = decontracted(sentance)\n",
    "        sent = sent.replace('\\\\r', ' ')\n",
    "        sent = sent.replace('\\\\\"', ' ')\n",
    "        sent = sent.replace('\\\\n', ' ')\n",
    "        sent = re.sub('[^A-Za-z0-9]+', ' ', sent)\n",
    "        sent = ' '.join(e for e in sent.split() if e.lower() not in stopwords)\n",
    "        processed_text.append(sent.lower().strip())\n",
    "    return processed_text"
   ]
  },
  {
   "cell_type": "code",
   "execution_count": 25,
   "metadata": {
    "colab": {},
    "colab_type": "code",
    "id": "J18Lnbq4jEC5"
   },
   "outputs": [
    {
     "name": "stderr",
     "output_type": "stream",
     "text": [
      "100%|██████████| 109248/109248 [01:09<00:00, 1575.30it/s]\n"
     ]
    }
   ],
   "source": [
    "project_data['essay']=text_processing(project_data,'essay')"
   ]
  },
  {
   "cell_type": "markdown",
   "metadata": {},
   "source": [
    "### project_title"
   ]
  },
  {
   "cell_type": "code",
   "execution_count": 26,
   "metadata": {},
   "outputs": [
    {
     "name": "stderr",
     "output_type": "stream",
     "text": [
      "100%|██████████| 109248/109248 [00:03<00:00, 33802.43it/s]\n"
     ]
    }
   ],
   "source": [
    "project_data['project_title']=text_processing(project_data,'project_title')"
   ]
  },
  {
   "cell_type": "markdown",
   "metadata": {},
   "source": [
    "### project_resource_summary"
   ]
  },
  {
   "cell_type": "code",
   "execution_count": 27,
   "metadata": {},
   "outputs": [
    {
     "name": "stderr",
     "output_type": "stream",
     "text": [
      "100%|██████████| 109248/109248 [00:07<00:00, 14527.70it/s]\n"
     ]
    }
   ],
   "source": [
    "project_data['project_resource_summary']=text_processing(project_data,'project_resource_summary')"
   ]
  },
  {
   "cell_type": "markdown",
   "metadata": {},
   "source": [
    "### project_grade_category"
   ]
  },
  {
   "cell_type": "code",
   "execution_count": 28,
   "metadata": {
    "colab": {},
    "colab_type": "code",
    "id": "qS8UsoiwjEC8"
   },
   "outputs": [
    {
     "name": "stderr",
     "output_type": "stream",
     "text": [
      "100%|██████████| 109248/109248 [00:00<00:00, 923818.11it/s]\n"
     ]
    }
   ],
   "source": [
    "processed_grade=[]\n",
    "\n",
    "for each_grade in tqdm(project_data['project_grade_category'].values):\n",
    "    temp=\"\"\n",
    "    temp=each_grade.lower()\n",
    "    temp=temp.replace(' ','_')\n",
    "    temp=temp.replace('-','_')\n",
    "    processed_grade.append(temp)\n",
    "    \n",
    "project_data['project_grade_category']=processed_grade"
   ]
  },
  {
   "cell_type": "code",
   "execution_count": 29,
   "metadata": {
    "colab": {},
    "colab_type": "code",
    "id": "-uXcgTxzjEDQ"
   },
   "outputs": [],
   "source": [
    "# Merge the projectdata and pricedata by using id feature\n",
    "\n",
    "price_data = resource_data.groupby('id').agg({'price':'sum', 'quantity':'sum'}).reset_index()\n",
    "project_data = pd.merge(project_data, price_data, on='id', how='left')"
   ]
  },
  {
   "cell_type": "code",
   "execution_count": 30,
   "metadata": {
    "colab": {},
    "colab_type": "code",
    "id": "e9Z9dp70jEDT"
   },
   "outputs": [
    {
     "name": "stdout",
     "output_type": "stream",
     "text": [
      "Final Feature Names:\n",
      "\n",
      " ['Unnamed: 0', 'id', 'teacher_id', 'teacher_prefix', 'school_state', 'Date', 'project_grade_category', 'project_title', 'project_resource_summary', 'teacher_number_of_previously_posted_projects', 'project_is_approved', 'essay', 'clean_categories', 'clean_sub_categories', 'quantity', 'price']\n",
      "\n",
      "Sample Data set\n"
     ]
    },
    {
     "data": {
      "text/html": [
       "<div>\n",
       "<style scoped>\n",
       "    .dataframe tbody tr th:only-of-type {\n",
       "        vertical-align: middle;\n",
       "    }\n",
       "\n",
       "    .dataframe tbody tr th {\n",
       "        vertical-align: top;\n",
       "    }\n",
       "\n",
       "    .dataframe thead th {\n",
       "        text-align: right;\n",
       "    }\n",
       "</style>\n",
       "<table border=\"1\" class=\"dataframe\">\n",
       "  <thead>\n",
       "    <tr style=\"text-align: right;\">\n",
       "      <th></th>\n",
       "      <th>Unnamed: 0</th>\n",
       "      <th>id</th>\n",
       "      <th>teacher_id</th>\n",
       "      <th>teacher_prefix</th>\n",
       "      <th>school_state</th>\n",
       "      <th>Date</th>\n",
       "      <th>project_grade_category</th>\n",
       "      <th>project_title</th>\n",
       "      <th>project_resource_summary</th>\n",
       "      <th>teacher_number_of_previously_posted_projects</th>\n",
       "      <th>project_is_approved</th>\n",
       "      <th>essay</th>\n",
       "      <th>clean_categories</th>\n",
       "      <th>clean_sub_categories</th>\n",
       "      <th>quantity</th>\n",
       "      <th>price</th>\n",
       "    </tr>\n",
       "  </thead>\n",
       "  <tbody>\n",
       "    <tr>\n",
       "      <th>0</th>\n",
       "      <td>8393</td>\n",
       "      <td>p205479</td>\n",
       "      <td>2bf07ba08945e5d8b2a3f269b2b3cfe5</td>\n",
       "      <td>Mrs.</td>\n",
       "      <td>CA</td>\n",
       "      <td>2016-04-27 00:27:36</td>\n",
       "      <td>grades_prek_2</td>\n",
       "      <td>engineering steam primary classroom</td>\n",
       "      <td>students need stem kits learn critical science...</td>\n",
       "      <td>53</td>\n",
       "      <td>1</td>\n",
       "      <td>fortunate enough use fairy tale stem kits clas...</td>\n",
       "      <td>Math_Science</td>\n",
       "      <td>AppliedSciences Health_LifeScience</td>\n",
       "      <td>4</td>\n",
       "      <td>725.05</td>\n",
       "    </tr>\n",
       "    <tr>\n",
       "      <th>1</th>\n",
       "      <td>37728</td>\n",
       "      <td>p043609</td>\n",
       "      <td>3f60494c61921b3b43ab61bdde2904df</td>\n",
       "      <td>Ms.</td>\n",
       "      <td>UT</td>\n",
       "      <td>2016-04-27 00:31:25</td>\n",
       "      <td>grades_3_5</td>\n",
       "      <td>sensory tools focus</td>\n",
       "      <td>students need boogie boards quiet sensory brea...</td>\n",
       "      <td>4</td>\n",
       "      <td>1</td>\n",
       "      <td>imagine 8 9 years old third grade classroom se...</td>\n",
       "      <td>SpecialNeeds</td>\n",
       "      <td>SpecialNeeds</td>\n",
       "      <td>8</td>\n",
       "      <td>213.03</td>\n",
       "    </tr>\n",
       "    <tr>\n",
       "      <th>2</th>\n",
       "      <td>74477</td>\n",
       "      <td>p189804</td>\n",
       "      <td>4a97f3a390bfe21b99cf5e2b81981c73</td>\n",
       "      <td>Mrs.</td>\n",
       "      <td>CA</td>\n",
       "      <td>2016-04-27 00:46:53</td>\n",
       "      <td>grades_prek_2</td>\n",
       "      <td>mobile learning mobile listening center</td>\n",
       "      <td>students need mobile listening center able enh...</td>\n",
       "      <td>10</td>\n",
       "      <td>1</td>\n",
       "      <td>class 24 students comes diverse learners stude...</td>\n",
       "      <td>Literacy_Language</td>\n",
       "      <td>Literacy</td>\n",
       "      <td>1</td>\n",
       "      <td>329.00</td>\n",
       "    </tr>\n",
       "    <tr>\n",
       "      <th>3</th>\n",
       "      <td>100660</td>\n",
       "      <td>p234804</td>\n",
       "      <td>cbc0e38f522143b86d372f8b43d4cff3</td>\n",
       "      <td>Mrs.</td>\n",
       "      <td>GA</td>\n",
       "      <td>2016-04-27 00:53:00</td>\n",
       "      <td>grades_prek_2</td>\n",
       "      <td>flexible seating flexible learning</td>\n",
       "      <td>students need flexible seating classroom choos...</td>\n",
       "      <td>2</td>\n",
       "      <td>1</td>\n",
       "      <td>recently read article giving students choice l...</td>\n",
       "      <td>AppliedLearning</td>\n",
       "      <td>EarlyDevelopment</td>\n",
       "      <td>9</td>\n",
       "      <td>481.04</td>\n",
       "    </tr>\n",
       "    <tr>\n",
       "      <th>4</th>\n",
       "      <td>33679</td>\n",
       "      <td>p137682</td>\n",
       "      <td>06f6e62e17de34fcf81020c77549e1d5</td>\n",
       "      <td>Mrs.</td>\n",
       "      <td>WA</td>\n",
       "      <td>2016-04-27 01:05:25</td>\n",
       "      <td>grades_3_5</td>\n",
       "      <td>going deep art inner thinking</td>\n",
       "      <td>students need copies new york times best selle...</td>\n",
       "      <td>2</td>\n",
       "      <td>1</td>\n",
       "      <td>students crave challenge eat obstacles breakfa...</td>\n",
       "      <td>Literacy_Language</td>\n",
       "      <td>Literacy</td>\n",
       "      <td>14</td>\n",
       "      <td>17.74</td>\n",
       "    </tr>\n",
       "  </tbody>\n",
       "</table>\n",
       "</div>"
      ],
      "text/plain": [
       "   Unnamed: 0       id                        teacher_id teacher_prefix  \\\n",
       "0        8393  p205479  2bf07ba08945e5d8b2a3f269b2b3cfe5           Mrs.   \n",
       "1       37728  p043609  3f60494c61921b3b43ab61bdde2904df            Ms.   \n",
       "2       74477  p189804  4a97f3a390bfe21b99cf5e2b81981c73           Mrs.   \n",
       "3      100660  p234804  cbc0e38f522143b86d372f8b43d4cff3           Mrs.   \n",
       "4       33679  p137682  06f6e62e17de34fcf81020c77549e1d5           Mrs.   \n",
       "\n",
       "  school_state                Date project_grade_category  \\\n",
       "0           CA 2016-04-27 00:27:36          grades_prek_2   \n",
       "1           UT 2016-04-27 00:31:25             grades_3_5   \n",
       "2           CA 2016-04-27 00:46:53          grades_prek_2   \n",
       "3           GA 2016-04-27 00:53:00          grades_prek_2   \n",
       "4           WA 2016-04-27 01:05:25             grades_3_5   \n",
       "\n",
       "                             project_title  \\\n",
       "0      engineering steam primary classroom   \n",
       "1                      sensory tools focus   \n",
       "2  mobile learning mobile listening center   \n",
       "3       flexible seating flexible learning   \n",
       "4            going deep art inner thinking   \n",
       "\n",
       "                            project_resource_summary  \\\n",
       "0  students need stem kits learn critical science...   \n",
       "1  students need boogie boards quiet sensory brea...   \n",
       "2  students need mobile listening center able enh...   \n",
       "3  students need flexible seating classroom choos...   \n",
       "4  students need copies new york times best selle...   \n",
       "\n",
       "   teacher_number_of_previously_posted_projects  project_is_approved  \\\n",
       "0                                            53                    1   \n",
       "1                                             4                    1   \n",
       "2                                            10                    1   \n",
       "3                                             2                    1   \n",
       "4                                             2                    1   \n",
       "\n",
       "                                               essay   clean_categories  \\\n",
       "0  fortunate enough use fairy tale stem kits clas...       Math_Science   \n",
       "1  imagine 8 9 years old third grade classroom se...       SpecialNeeds   \n",
       "2  class 24 students comes diverse learners stude...  Literacy_Language   \n",
       "3  recently read article giving students choice l...    AppliedLearning   \n",
       "4  students crave challenge eat obstacles breakfa...  Literacy_Language   \n",
       "\n",
       "                 clean_sub_categories  quantity   price  \n",
       "0  AppliedSciences Health_LifeScience         4  725.05  \n",
       "1                        SpecialNeeds         8  213.03  \n",
       "2                            Literacy         1  329.00  \n",
       "3                    EarlyDevelopment         9  481.04  \n",
       "4                            Literacy        14   17.74  "
      ]
     },
     "execution_count": 30,
     "metadata": {},
     "output_type": "execute_result"
    }
   ],
   "source": [
    "print(\"Final Feature Names:\\n\\n\", list(project_data.columns))\n",
    "print(\"\\nSample Data set\")\n",
    "project_data.head()"
   ]
  },
  {
   "cell_type": "code",
   "execution_count": 31,
   "metadata": {
    "colab": {},
    "colab_type": "code",
    "id": "rtSSEonDjEDZ"
   },
   "outputs": [
    {
     "data": {
      "text/html": [
       "<div>\n",
       "<style scoped>\n",
       "    .dataframe tbody tr th:only-of-type {\n",
       "        vertical-align: middle;\n",
       "    }\n",
       "\n",
       "    .dataframe tbody tr th {\n",
       "        vertical-align: top;\n",
       "    }\n",
       "\n",
       "    .dataframe thead th {\n",
       "        text-align: right;\n",
       "    }\n",
       "</style>\n",
       "<table border=\"1\" class=\"dataframe\">\n",
       "  <thead>\n",
       "    <tr style=\"text-align: right;\">\n",
       "      <th></th>\n",
       "      <th>Unnamed: 0</th>\n",
       "      <th>id</th>\n",
       "      <th>teacher_id</th>\n",
       "      <th>teacher_prefix</th>\n",
       "      <th>school_state</th>\n",
       "      <th>Date</th>\n",
       "      <th>project_grade_category</th>\n",
       "      <th>project_title</th>\n",
       "      <th>project_resource_summary</th>\n",
       "      <th>teacher_number_of_previously_posted_projects</th>\n",
       "      <th>project_is_approved</th>\n",
       "      <th>essay</th>\n",
       "      <th>clean_categories</th>\n",
       "      <th>clean_sub_categories</th>\n",
       "      <th>quantity</th>\n",
       "      <th>price</th>\n",
       "    </tr>\n",
       "  </thead>\n",
       "  <tbody>\n",
       "    <tr>\n",
       "      <th>0</th>\n",
       "      <td>8393</td>\n",
       "      <td>p205479</td>\n",
       "      <td>2bf07ba08945e5d8b2a3f269b2b3cfe5</td>\n",
       "      <td>Mrs.</td>\n",
       "      <td>CA</td>\n",
       "      <td>2016-04-27 00:27:36</td>\n",
       "      <td>grades_prek_2</td>\n",
       "      <td>engineering steam primary classroom</td>\n",
       "      <td>students need stem kits learn critical science...</td>\n",
       "      <td>53</td>\n",
       "      <td>1</td>\n",
       "      <td>fortunate enough use fairy tale stem kits clas...</td>\n",
       "      <td>Math_Science</td>\n",
       "      <td>AppliedSciences Health_LifeScience</td>\n",
       "      <td>4</td>\n",
       "      <td>725.05</td>\n",
       "    </tr>\n",
       "    <tr>\n",
       "      <th>1</th>\n",
       "      <td>37728</td>\n",
       "      <td>p043609</td>\n",
       "      <td>3f60494c61921b3b43ab61bdde2904df</td>\n",
       "      <td>Ms.</td>\n",
       "      <td>UT</td>\n",
       "      <td>2016-04-27 00:31:25</td>\n",
       "      <td>grades_3_5</td>\n",
       "      <td>sensory tools focus</td>\n",
       "      <td>students need boogie boards quiet sensory brea...</td>\n",
       "      <td>4</td>\n",
       "      <td>1</td>\n",
       "      <td>imagine 8 9 years old third grade classroom se...</td>\n",
       "      <td>SpecialNeeds</td>\n",
       "      <td>SpecialNeeds</td>\n",
       "      <td>8</td>\n",
       "      <td>213.03</td>\n",
       "    </tr>\n",
       "    <tr>\n",
       "      <th>2</th>\n",
       "      <td>74477</td>\n",
       "      <td>p189804</td>\n",
       "      <td>4a97f3a390bfe21b99cf5e2b81981c73</td>\n",
       "      <td>Mrs.</td>\n",
       "      <td>CA</td>\n",
       "      <td>2016-04-27 00:46:53</td>\n",
       "      <td>grades_prek_2</td>\n",
       "      <td>mobile learning mobile listening center</td>\n",
       "      <td>students need mobile listening center able enh...</td>\n",
       "      <td>10</td>\n",
       "      <td>1</td>\n",
       "      <td>class 24 students comes diverse learners stude...</td>\n",
       "      <td>Literacy_Language</td>\n",
       "      <td>Literacy</td>\n",
       "      <td>1</td>\n",
       "      <td>329.00</td>\n",
       "    </tr>\n",
       "  </tbody>\n",
       "</table>\n",
       "</div>"
      ],
      "text/plain": [
       "   Unnamed: 0       id                        teacher_id teacher_prefix  \\\n",
       "0        8393  p205479  2bf07ba08945e5d8b2a3f269b2b3cfe5           Mrs.   \n",
       "1       37728  p043609  3f60494c61921b3b43ab61bdde2904df            Ms.   \n",
       "2       74477  p189804  4a97f3a390bfe21b99cf5e2b81981c73           Mrs.   \n",
       "\n",
       "  school_state                Date project_grade_category  \\\n",
       "0           CA 2016-04-27 00:27:36          grades_prek_2   \n",
       "1           UT 2016-04-27 00:31:25             grades_3_5   \n",
       "2           CA 2016-04-27 00:46:53          grades_prek_2   \n",
       "\n",
       "                             project_title  \\\n",
       "0      engineering steam primary classroom   \n",
       "1                      sensory tools focus   \n",
       "2  mobile learning mobile listening center   \n",
       "\n",
       "                            project_resource_summary  \\\n",
       "0  students need stem kits learn critical science...   \n",
       "1  students need boogie boards quiet sensory brea...   \n",
       "2  students need mobile listening center able enh...   \n",
       "\n",
       "   teacher_number_of_previously_posted_projects  project_is_approved  \\\n",
       "0                                            53                    1   \n",
       "1                                             4                    1   \n",
       "2                                            10                    1   \n",
       "\n",
       "                                               essay   clean_categories  \\\n",
       "0  fortunate enough use fairy tale stem kits clas...       Math_Science   \n",
       "1  imagine 8 9 years old third grade classroom se...       SpecialNeeds   \n",
       "2  class 24 students comes diverse learners stude...  Literacy_Language   \n",
       "\n",
       "                 clean_sub_categories  quantity   price  \n",
       "0  AppliedSciences Health_LifeScience         4  725.05  \n",
       "1                        SpecialNeeds         8  213.03  \n",
       "2                            Literacy         1  329.00  "
      ]
     },
     "execution_count": 31,
     "metadata": {},
     "output_type": "execute_result"
    }
   ],
   "source": [
    "y = project_data['project_is_approved'].values\n",
    "X=project_data.drop(['project_is_approved'], axis=1)\n",
    "project_data.head(3)"
   ]
  },
  {
   "cell_type": "code",
   "execution_count": 32,
   "metadata": {
    "colab": {},
    "colab_type": "code",
    "id": "5cJxIAPljEDd"
   },
   "outputs": [],
   "source": [
    "\n",
    "X_train, X_test, y_train, y_test = train_test_split(X, y, test_size=0.30, stratify=y)"
   ]
  },
  {
   "cell_type": "code",
   "execution_count": 33,
   "metadata": {
    "colab": {},
    "colab_type": "code",
    "id": "kEZKaHf8jEDf"
   },
   "outputs": [
    {
     "name": "stdout",
     "output_type": "stream",
     "text": [
      "Training data set shape: (76473, 15)\n",
      "Test data set shape: (32775, 15)\n"
     ]
    }
   ],
   "source": [
    "print(\"Training data set shape:\",X_train.shape)\n",
    "print(\"Test data set shape:\",X_test.shape)"
   ]
  },
  {
   "cell_type": "markdown",
   "metadata": {},
   "source": [
    "## Feature Vectorization"
   ]
  },
  {
   "cell_type": "markdown",
   "metadata": {},
   "source": [
    "### teacher_prefix"
   ]
  },
  {
   "cell_type": "code",
   "execution_count": 34,
   "metadata": {
    "colab": {},
    "colab_type": "code",
    "id": "3LHe49w_jEDi"
   },
   "outputs": [],
   "source": [
    "vectorizer=CountVectorizer()\n",
    "vectorizer.fit(X_train.teacher_prefix.values)\n",
    "X_tr_teacher_onehot=vectorizer.transform(X_train.teacher_prefix.values)\n",
    "X_te_teacher_onehot=vectorizer.transform(X_test.teacher_prefix.values)"
   ]
  },
  {
   "cell_type": "markdown",
   "metadata": {},
   "source": [
    "###  school_state"
   ]
  },
  {
   "cell_type": "code",
   "execution_count": 35,
   "metadata": {
    "colab": {},
    "colab_type": "code",
    "id": "oJWKFMAcjEDl"
   },
   "outputs": [],
   "source": [
    "vectorizer=CountVectorizer()\n",
    "vectorizer.fit(X_train.school_state.values)\n",
    "X_tr_school_onehot=vectorizer.transform(X_train.school_state.values)\n",
    "X_te_school_onehot=vectorizer.transform(X_test.school_state.values)"
   ]
  },
  {
   "cell_type": "markdown",
   "metadata": {},
   "source": [
    "### project_grade_category"
   ]
  },
  {
   "cell_type": "code",
   "execution_count": 36,
   "metadata": {
    "colab": {},
    "colab_type": "code",
    "id": "-yBfEk0jjEDo"
   },
   "outputs": [],
   "source": [
    "vectorizer=CountVectorizer()\n",
    "vectorizer.fit(X_train.project_grade_category.values)\n",
    "X_tr_grade_onehot=vectorizer.transform(X_train.project_grade_category.values)\n",
    "X_te_grade_onehot=vectorizer.transform(X_test.project_grade_category.values)"
   ]
  },
  {
   "cell_type": "markdown",
   "metadata": {},
   "source": [
    "###  clean_categories"
   ]
  },
  {
   "cell_type": "code",
   "execution_count": 37,
   "metadata": {
    "colab": {},
    "colab_type": "code",
    "id": "013T6MLljEDv"
   },
   "outputs": [],
   "source": [
    "vectorizer=CountVectorizer()\n",
    "vectorizer.fit(X_train.clean_categories.values)\n",
    "X_tr_cat_onehot=vectorizer.transform(X_train.clean_categories.values)\n",
    "X_te_cat_onehot=vectorizer.transform(X_test.clean_categories.values)"
   ]
  },
  {
   "cell_type": "markdown",
   "metadata": {},
   "source": [
    "### clean_sub_categories"
   ]
  },
  {
   "cell_type": "code",
   "execution_count": 38,
   "metadata": {
    "colab": {},
    "colab_type": "code",
    "id": "XvkSrgqujED0"
   },
   "outputs": [],
   "source": [
    "vectorizer=CountVectorizer()\n",
    "vectorizer.fit(X_train.clean_sub_categories.values)\n",
    "X_tr_sub_cat_onehot=vectorizer.transform(X_train.clean_sub_categories.values)\n",
    "X_te_sub_cat_onehot=vectorizer.transform(X_test.clean_sub_categories.values)"
   ]
  },
  {
   "cell_type": "markdown",
   "metadata": {},
   "source": [
    "## Normalization"
   ]
  },
  {
   "cell_type": "markdown",
   "metadata": {},
   "source": [
    "### price"
   ]
  },
  {
   "cell_type": "code",
   "execution_count": 39,
   "metadata": {
    "colab": {},
    "colab_type": "code",
    "id": "3lKUbQHzjED4"
   },
   "outputs": [],
   "source": [
    "nrml= Normalizer()\n",
    "nrml.fit(X_train['price'].values.reshape(1,-1))\n",
    "\n",
    "X_tr_price_nrml = nrml.transform(X_train.price.values.reshape(1,-1)).reshape(-1,1)\n",
    "X_te_price_nrml = nrml.transform(X_test.price.values.reshape(1,-1)).reshape(-1,1)\n"
   ]
  },
  {
   "cell_type": "markdown",
   "metadata": {},
   "source": [
    "### teacher_number_of_previously_posted_projects"
   ]
  },
  {
   "cell_type": "code",
   "execution_count": 40,
   "metadata": {
    "colab": {},
    "colab_type": "code",
    "id": "YWEFB1AXjED6"
   },
   "outputs": [],
   "source": [
    "nrml = Normalizer()\n",
    "nrml.fit(X_train.teacher_number_of_previously_posted_projects.values.reshape(1,-1))\n",
    "X_tr_teacher_number_nrml = nrml.transform(X_train.teacher_number_of_previously_posted_projects.values.reshape(1,-1)).reshape(-1,1)\n",
    "X_te_teacher_number_nrml = nrml.transform(X_test.teacher_number_of_previously_posted_projects.values.reshape(1,-1)).reshape(-1,1)\n"
   ]
  },
  {
   "cell_type": "code",
   "execution_count": 41,
   "metadata": {
    "colab": {},
    "colab_type": "code",
    "id": "9mDhGDCTjED9"
   },
   "outputs": [],
   "source": [
    "X_tr_vec=hstack((X_tr_teacher_onehot,X_tr_school_onehot,X_tr_grade_onehot,X_tr_cat_onehot,\n",
    "                 X_tr_sub_cat_onehot,X_tr_price_nrml,X_tr_teacher_number_nrml)).tocsr()\n",
    "X_te_vec=hstack((X_te_teacher_onehot,X_te_school_onehot,X_te_grade_onehot,X_te_cat_onehot, X_te_sub_cat_onehot,\n",
    "                 X_te_price_nrml,X_te_teacher_number_nrml)).tocsr()"
   ]
  },
  {
   "cell_type": "code",
   "execution_count": 42,
   "metadata": {},
   "outputs": [
    {
     "name": "stdout",
     "output_type": "stream",
     "text": [
      "After stacking :\n",
      "Training data set shape : (76473, 101)\n",
      "Test data set shape : (32775, 101)\n"
     ]
    }
   ],
   "source": [
    "print(\"After stacking :\")\n",
    "print(\"Training data set shape :\",X_tr_vec.shape)\n",
    "print(\"Test data set shape :\",X_te_vec.shape)"
   ]
  },
  {
   "cell_type": "markdown",
   "metadata": {},
   "source": [
    "#  Model Training"
   ]
  },
  {
   "cell_type": "markdown",
   "metadata": {
    "colab_type": "text",
    "id": "Lw6efnoVjEEA"
   },
   "source": [
    "## Hypertuning Values"
   ]
  },
  {
   "cell_type": "code",
   "execution_count": 43,
   "metadata": {
    "colab": {},
    "colab_type": "code",
    "id": "TKLjA-4TjEEB"
   },
   "outputs": [],
   "source": [
    "c_values=[10**i  for i in range(-4,4)]\n",
    "model=LogisticRegression()"
   ]
  },
  {
   "cell_type": "code",
   "execution_count": 44,
   "metadata": {},
   "outputs": [
    {
     "name": "stdout",
     "output_type": "stream",
     "text": [
      " Default Model:\n",
      " LogisticRegression(C=1.0, class_weight=None, dual=False, fit_intercept=True,\n",
      "          intercept_scaling=1, max_iter=100, multi_class='ovr', n_jobs=1,\n",
      "          penalty='l2', random_state=None, solver='liblinear', tol=0.0001,\n",
      "          verbose=0, warm_start=False)\n"
     ]
    }
   ],
   "source": [
    "print(\" Default Model:\\n\",model)"
   ]
  },
  {
   "cell_type": "code",
   "execution_count": 45,
   "metadata": {},
   "outputs": [],
   "source": [
    "# Avoid the bais towards the class which has more number of observations\n",
    "model.class_weight='balanced'"
   ]
  },
  {
   "cell_type": "code",
   "execution_count": 46,
   "metadata": {},
   "outputs": [],
   "source": [
    "def cross_validate_plot(hyper_vals,X_train,y_train):\n",
    "    auc_scores={}\n",
    "    train_auc=[]\n",
    "    cv_auc=[]\n",
    "    \n",
    "    for each_c in tqdm(hyper_vals):\n",
    "        clf=LogisticRegression(C=each_c)\n",
    "        clf.class_weight='balanced'\n",
    "        auc_scores[each_c]=cross_validate(clf, X_train, y_train, cv=5, scoring='roc_auc',return_train_score=True,n_jobs=-1)\n",
    "        \n",
    "    for each_c in hyper_vals:\n",
    "        train_auc.append(auc_scores[each_c]['train_score'].mean())\n",
    "        cv_auc.append(auc_scores[each_c]['test_score'].mean())\n",
    "    \n",
    "    hyper_vals=np.log10(hyper_vals)\n",
    " \n",
    "    plt.plot(hyper_vals, train_auc, label='Train AUC')\n",
    "    plt.scatter(hyper_vals,train_auc)\n",
    "\n",
    "    plt.plot(hyper_vals, cv_auc, label='CV AUC')\n",
    "    plt.scatter(hyper_vals,cv_auc)\n",
    "    \n",
    "    plt.title(\"AUC PLOT for Train and CV datasets\")\n",
    "    plt.legend()\n",
    "    plt.xlabel(\"C: Hyper parameter to the 10th power\")\n",
    "    plt.ylabel(\"AUC Score\")\n",
    "  \n",
    "    plt.show()\n",
    "    \n",
    "    del auc_scores\n",
    "    del train_auc\n",
    "    del cv_auc"
   ]
  },
  {
   "cell_type": "code",
   "execution_count": 47,
   "metadata": {
    "colab": {},
    "colab_type": "code",
    "id": "FTK26qlNjEEO"
   },
   "outputs": [],
   "source": [
    "def build_best_model_plot_roc(model,X_train_data,y_train_data,X_test_data,y_test_data):\n",
    "    \n",
    "  \n",
    "    model.fit(X_train_data,y_train_data)\n",
    "    \n",
    "    y_tr_pred_prob=model.predict_proba(X_train_data)\n",
    "    y_te_pred_prob=model.predict_proba(X_test_data)\n",
    "    \n",
    "    plot_roc([y_train_data,y_tr_pred_prob[:,1]],[y_test_data,y_te_pred_prob[:,1]])\n",
    "    \n",
    "    del y_tr_pred_prob\n",
    "    del y_te_pred_prob\n",
    "    "
   ]
  },
  {
   "cell_type": "code",
   "execution_count": 48,
   "metadata": {
    "colab": {},
    "colab_type": "code",
    "id": "3OmdFXHajEER"
   },
   "outputs": [],
   "source": [
    "def plot_roc(y_train,y_test):\n",
    "    \n",
    "    fpr_tr,tpr_tr,thr_tr=roc_curve(y_train[0],y_train[1])\n",
    "    fpr_te,tpr_te,thr_te=roc_curve(y_test[0],y_test[1])\n",
    "    \n",
    "    plt.plot(fpr_tr,tpr_tr,label=\"AUC score for Train data is : {}\".format(np.round(auc(fpr_tr,tpr_tr),4)))\n",
    "    plt.plot(fpr_te,tpr_te,label=\"AUC score is Test data is  : {}\".format(np.round(auc(fpr_te,tpr_te),4)))\n",
    "\n",
    "    plt.plot([0,1],[0,1],'k--',label=\"Random Curve AUC score is :{}\".format(0.5))\n",
    "\n",
    "    plt.title(\"ROC Curve for Train and Test data\")\n",
    "    plt.legend()\n",
    "    plt.xlabel(\"False Positive Rate\")\n",
    "    plt.ylabel(\"True Positive Rate\")\n",
    "    plt.show()\n",
    "    \n",
    "    print('-'*90)\n",
    "    cutoof_thr=thr_tr[np.argmax(tpr_tr*(1-fpr_tr))]\n",
    "    \n",
    "    print(\"The Maximum value of 'TPR*(1-FPR)' is {} for 'THRESHOLD VALUE'of {}\"\n",
    "          .format(max(tpr_tr*(1-fpr_tr)),np.round(cutoof_thr,3)))\n",
    "    \n",
    "    print('-'*90)\n",
    "    \n",
    "    y_train_pred=predict_with_best_t(y_train[1],cutoof_thr)\n",
    "    y_test_pred=predict_with_best_t(y_test[1],cutoof_thr)\n",
    "    \n",
    "    plot_confusion_matrix(y_train[0],y_train_pred,\"TRAIN DATA\")\n",
    "    plot_confusion_matrix(y_test[0],y_test_pred,\"TEST DATA\")\n",
    "    \n",
    "    display_accuracy([y_train[0],y_train_pred],[y_test[0],y_test_pred])\n",
    "    \n",
    "    del y_train_pred\n",
    "    del y_test_pred"
   ]
  },
  {
   "cell_type": "code",
   "execution_count": 49,
   "metadata": {},
   "outputs": [],
   "source": [
    "def predict_with_best_t(pred_proba, cut_off):\n",
    "    pred= []\n",
    "    for i in pred_proba:\n",
    "        if i>=cut_off:\n",
    "            pred.append(1)\n",
    "        else:\n",
    "            pred.append(0)\n",
    "    return pred"
   ]
  },
  {
   "cell_type": "code",
   "execution_count": 50,
   "metadata": {},
   "outputs": [],
   "source": [
    "def plot_confusion_matrix(y_true,y_pred,set_name):\n",
    "    sns.heatmap(confusion_matrix(y_true,y_pred), annot=True, fmt=\"d\",cmap=\"YlGnBu\")\n",
    "    plt.title(\"Confusion Matrix for {}\".format(set_name))\n",
    "    plt.xlabel(\"Predicted labels\")\n",
    "    plt.ylabel(\"Actual labels\")\n",
    "    plt.show()"
   ]
  },
  {
   "cell_type": "code",
   "execution_count": 51,
   "metadata": {},
   "outputs": [],
   "source": [
    "def display_accuracy(train_res,test_res):\n",
    "    \n",
    "    acc_table=PrettyTable()\n",
    "    acc_table.field_names = [\"Training Accuracy\",\"Test Accuracy\"]\n",
    "    acc_table.add_row([np.round(accuracy_score(train_res[0],train_res[1]),3),\n",
    "                       np.round(accuracy_score(test_res[0],test_res[1]),3)])\n",
    "    print(acc_table)"
   ]
  },
  {
   "cell_type": "markdown",
   "metadata": {},
   "source": [
    "# TASK-1"
   ]
  },
  {
   "cell_type": "markdown",
   "metadata": {},
   "source": [
    "## Bag Of Words"
   ]
  },
  {
   "cell_type": "markdown",
   "metadata": {},
   "source": [
    "###  project_title"
   ]
  },
  {
   "cell_type": "code",
   "execution_count": 52,
   "metadata": {
    "colab": {},
    "colab_type": "code",
    "id": "pK78MZ--jEEW"
   },
   "outputs": [],
   "source": [
    "\n",
    "vectorizer=CountVectorizer(ngram_range=(1,2),max_features=5000,min_df=10)\n",
    "vectorizer.fit(X_train.project_title.values)\n",
    "X_tr_title=vectorizer.transform(X_train.project_title.values)\n",
    "X_te_title=vectorizer.transform(X_test.project_title.values)"
   ]
  },
  {
   "cell_type": "markdown",
   "metadata": {},
   "source": [
    "### essay"
   ]
  },
  {
   "cell_type": "code",
   "execution_count": 53,
   "metadata": {
    "colab": {},
    "colab_type": "code",
    "id": "hei6Wu26jEEc"
   },
   "outputs": [],
   "source": [
    "vectorizer=CountVectorizer(ngram_range=(1,2),max_features=5000,min_df=10)\n",
    "vectorizer.fit(X_train.essay.values)\n",
    "X_tr_essay=vectorizer.transform(X_train.essay.values)\n",
    "X_te_essay=vectorizer.transform(X_test.essay.values)"
   ]
  },
  {
   "cell_type": "markdown",
   "metadata": {},
   "source": [
    "###  project_resource_summary"
   ]
  },
  {
   "cell_type": "code",
   "execution_count": 54,
   "metadata": {
    "colab": {},
    "colab_type": "code",
    "id": "jRs9w4yHjEEf"
   },
   "outputs": [],
   "source": [
    "vectorizer=CountVectorizer(ngram_range=(1,2),max_features=5000,min_df=10)\n",
    "vectorizer.fit(X_train.project_resource_summary.values)\n",
    "X_tr_resource=vectorizer.transform(X_train.project_resource_summary.values)\n",
    "X_te_resource=vectorizer.transform(X_test.project_resource_summary.values)"
   ]
  },
  {
   "cell_type": "code",
   "execution_count": 55,
   "metadata": {
    "colab": {},
    "colab_type": "code",
    "id": "xMBuCDWkjEEm"
   },
   "outputs": [],
   "source": [
    "X_train_bow=hstack((X_tr_vec,X_tr_title,X_tr_resource,X_tr_essay)).tocsr()\n",
    "X_test_bow=hstack((X_te_vec,X_te_title,X_te_resource,X_te_essay)).tocsr()"
   ]
  },
  {
   "cell_type": "code",
   "execution_count": 56,
   "metadata": {},
   "outputs": [
    {
     "name": "stdout",
     "output_type": "stream",
     "text": [
      "Bag of words:\n",
      "Training data set shape : (76473, 14853)\n",
      "Test data set shape : (32775, 14853)\n"
     ]
    }
   ],
   "source": [
    "print(\"Bag of words:\")\n",
    "print(\"Training data set shape :\",X_train_bow.shape)\n",
    "print(\"Test data set shape :\",X_test_bow.shape)"
   ]
  },
  {
   "cell_type": "code",
   "execution_count": 57,
   "metadata": {},
   "outputs": [],
   "source": [
    "# Release the memory \n",
    "del X_tr_title\n",
    "del X_te_title\n",
    "\n",
    "del X_tr_resource\n",
    "del X_te_resource\n",
    "\n",
    "del X_tr_essay\n",
    "del X_te_essay"
   ]
  },
  {
   "cell_type": "markdown",
   "metadata": {},
   "source": [
    "## Finding best 'C' and build the Model"
   ]
  },
  {
   "cell_type": "code",
   "execution_count": 58,
   "metadata": {},
   "outputs": [
    {
     "name": "stderr",
     "output_type": "stream",
     "text": [
      "100%|██████████| 8/8 [55:45<00:00, 418.23s/it]\n"
     ]
    },
    {
     "data": {
      "image/png": "[encoded data removed]",
      "text/plain": [
       "<Figure size 432x288 with 1 Axes>"
      ]
     },
     "metadata": {},
     "output_type": "display_data"
    }
   ],
   "source": [
    "cross_validate_plot(c_values,X_train_bow,y_train)"
   ]
  },
  {
   "cell_type": "code",
   "execution_count": 58,
   "metadata": {},
   "outputs": [
    {
     "name": "stdout",
     "output_type": "stream",
     "text": [
      "'C' Values to the power  of 10: [-4. -3. -2. -1.  0.  1.  2.  3.]\n"
     ]
    }
   ],
   "source": [
    "print(\"'C' Values to the power  of 10:\",np.log10(c_values))"
   ]
  },
  {
   "cell_type": "code",
   "execution_count": 59,
   "metadata": {},
   "outputs": [
    {
     "name": "stdout",
     "output_type": "stream",
     "text": [
      " Best Model Default Params:\n",
      " LogisticRegression(C=1.0, class_weight='balanced', dual=False,\n",
      "          fit_intercept=True, intercept_scaling=1, max_iter=100,\n",
      "          multi_class='ovr', n_jobs=1, penalty='l2', random_state=None,\n",
      "          solver='liblinear', tol=0.0001, verbose=0, warm_start=False)\n"
     ]
    }
   ],
   "source": [
    "best_model=LogisticRegression()\n",
    "best_model.class_weight='balanced'\n",
    "print(\" Best Model Default Params:\\n\",best_model)"
   ]
  },
  {
   "cell_type": "code",
   "execution_count": 78,
   "metadata": {},
   "outputs": [],
   "source": [
    "best_model.C=10**-3"
   ]
  },
  {
   "cell_type": "code",
   "execution_count": 79,
   "metadata": {},
   "outputs": [
    {
     "data": {
      "image/png": "[encoded data removed]",
      "text/plain": [
       "<Figure size 432x288 with 1 Axes>"
      ]
     },
     "metadata": {},
     "output_type": "display_data"
    },
    {
     "name": "stdout",
     "output_type": "stream",
     "text": [
      "------------------------------------------------------------------------------------------\n",
      "The Maximum value of 'TPR*(1-FPR)' is 0.5139691781621604 for 'THRESHOLD VALUE'of 0.496\n",
      "------------------------------------------------------------------------------------------\n"
     ]
    },
    {
     "data": {
      "image/png": "[encoded data removed]",
      "text/plain": [
       "<Figure size 432x288 with 2 Axes>"
      ]
     },
     "metadata": {},
     "output_type": "display_data"
    },
    {
     "data": {
      "image/png": "[encoded data removed]",
      "text/plain": [
       "<Figure size 432x288 with 2 Axes>"
      ]
     },
     "metadata": {},
     "output_type": "display_data"
    },
    {
     "name": "stdout",
     "output_type": "stream",
     "text": [
      "+-------------------+---------------+\n",
      "| Training Accuracy | Test Accuracy |\n",
      "+-------------------+---------------+\n",
      "|       0.713       |     0.686     |\n",
      "+-------------------+---------------+\n"
     ]
    }
   ],
   "source": [
    "build_best_model_plot_roc(best_model,X_train_bow,y_train,X_test_bow,y_test)"
   ]
  },
  {
   "cell_type": "code",
   "execution_count": 80,
   "metadata": {},
   "outputs": [],
   "source": [
    "del X_train_bow\n",
    "del X_test_bow"
   ]
  },
  {
   "cell_type": "markdown",
   "metadata": {},
   "source": [
    "##  TF-IDF"
   ]
  },
  {
   "cell_type": "markdown",
   "metadata": {},
   "source": [
    "###  project_title"
   ]
  },
  {
   "cell_type": "code",
   "execution_count": 60,
   "metadata": {},
   "outputs": [],
   "source": [
    "tf_idf_vectorizer=TfidfVectorizer(ngram_range=(1,2),max_features=5000,min_df=10)\n",
    "tf_idf_vectorizer.fit(X_train.project_title.values)\n",
    "X_tr_title=tf_idf_vectorizer.transform(X_train.project_title.values)\n",
    "X_te_title=tf_idf_vectorizer.transform(X_test.project_title.values)"
   ]
  },
  {
   "cell_type": "markdown",
   "metadata": {},
   "source": [
    "### essay"
   ]
  },
  {
   "cell_type": "code",
   "execution_count": 61,
   "metadata": {},
   "outputs": [],
   "source": [
    "tf_idf_vectorizer=TfidfVectorizer(ngram_range=(1,2),max_features=5000,min_df=10)\n",
    "tf_idf_vectorizer.fit(X_train.essay.values)\n",
    "X_tr_essay=tf_idf_vectorizer.transform(X_train.essay.values)\n",
    "X_te_essay=tf_idf_vectorizer.transform(X_test.essay.values)"
   ]
  },
  {
   "cell_type": "markdown",
   "metadata": {},
   "source": [
    "\n",
    "### project_resource_summary"
   ]
  },
  {
   "cell_type": "code",
   "execution_count": 62,
   "metadata": {},
   "outputs": [],
   "source": [
    "tf_idf_vectorizer=TfidfVectorizer(ngram_range=(1,2),max_features=5000,min_df=10)\n",
    "tf_idf_vectorizer.fit(X_train.project_resource_summary.values)\n",
    "X_tr_resource=tf_idf_vectorizer.transform(X_train.project_resource_summary.values)\n",
    "X_te_resource=tf_idf_vectorizer.transform(X_test.project_resource_summary.values)"
   ]
  },
  {
   "cell_type": "code",
   "execution_count": 63,
   "metadata": {},
   "outputs": [],
   "source": [
    "X_train_tfidf=hstack((X_tr_vec,X_tr_title,X_tr_resource,X_tr_essay)).tocsr()\n",
    "X_test_tfidf=hstack((X_te_vec,X_te_title,X_te_resource,X_te_essay)).tocsr()"
   ]
  },
  {
   "cell_type": "code",
   "execution_count": 64,
   "metadata": {},
   "outputs": [
    {
     "name": "stdout",
     "output_type": "stream",
     "text": [
      "TF-IDF:\n",
      "Training data set shape : (76473, 14853)\n",
      "Test data set shape : (32775, 14853)\n"
     ]
    }
   ],
   "source": [
    "print(\"TF-IDF:\")\n",
    "print(\"Training data set shape :\",X_train_tfidf.shape)\n",
    "print(\"Test data set shape :\",X_test_tfidf.shape)"
   ]
  },
  {
   "cell_type": "code",
   "execution_count": 65,
   "metadata": {},
   "outputs": [],
   "source": [
    "# Release the memory \n",
    "del X_tr_title\n",
    "del X_te_title\n",
    "\n",
    "del X_tr_resource\n",
    "del X_te_resource\n",
    "\n",
    "del X_tr_essay\n",
    "del X_te_essay"
   ]
  },
  {
   "cell_type": "markdown",
   "metadata": {},
   "source": [
    "### Finding right \"C\" and build model "
   ]
  },
  {
   "cell_type": "code",
   "execution_count": 67,
   "metadata": {},
   "outputs": [
    {
     "name": "stderr",
     "output_type": "stream",
     "text": [
      "100%|██████████| 8/8 [18:35<00:00, 139.45s/it]\n"
     ]
    },
    {
     "data": {
      "image/png": "[encoded data removed]",
      "text/plain": [
       "<Figure size 432x288 with 1 Axes>"
      ]
     },
     "metadata": {},
     "output_type": "display_data"
    }
   ],
   "source": [
    "cross_validate_plot(c_values,X_train_tfidf,y_train)"
   ]
  },
  {
   "cell_type": "code",
   "execution_count": 66,
   "metadata": {},
   "outputs": [
    {
     "name": "stdout",
     "output_type": "stream",
     "text": [
      "Hyper parameters to the power 10  : [-4. -3. -2. -1.  0.  1.  2.  3.]\n"
     ]
    }
   ],
   "source": [
    "print(\"Hyper parameters to the power 10  :\",np.log10(c_values))"
   ]
  },
  {
   "cell_type": "code",
   "execution_count": 81,
   "metadata": {},
   "outputs": [],
   "source": [
    "best_model.C=10**-1"
   ]
  },
  {
   "cell_type": "code",
   "execution_count": 82,
   "metadata": {},
   "outputs": [
    {
     "data": {
      "image/png": "[encoded data removed]",
      "text/plain": [
       "<Figure size 432x288 with 1 Axes>"
      ]
     },
     "metadata": {},
     "output_type": "display_data"
    },
    {
     "name": "stdout",
     "output_type": "stream",
     "text": [
      "------------------------------------------------------------------------------------------\n",
      "The Maximum value of 'TPR*(1-FPR)' is 0.5588122338273953 for 'THRESHOLD VALUE'of 0.511\n",
      "------------------------------------------------------------------------------------------\n"
     ]
    },
    {
     "data": {
      "image/png": "[encoded data removed]",
      "text/plain": [
       "<Figure size 432x288 with 2 Axes>"
      ]
     },
     "metadata": {},
     "output_type": "display_data"
    },
    {
     "data": {
      "image/png": "[encoded data removed]",
      "text/plain": [
       "<Figure size 432x288 with 2 Axes>"
      ]
     },
     "metadata": {},
     "output_type": "display_data"
    },
    {
     "name": "stdout",
     "output_type": "stream",
     "text": [
      "+-------------------+---------------+\n",
      "| Training Accuracy | Test Accuracy |\n",
      "+-------------------+---------------+\n",
      "|       0.736       |     0.694     |\n",
      "+-------------------+---------------+\n"
     ]
    }
   ],
   "source": [
    "\n",
    "build_best_model_plot_roc(best_model,X_train_tfidf,y_train,X_test_tfidf,y_test)"
   ]
  },
  {
   "cell_type": "code",
   "execution_count": 83,
   "metadata": {},
   "outputs": [],
   "source": [
    "del X_train_tfidf\n",
    "del X_test_tfidf"
   ]
  },
  {
   "cell_type": "markdown",
   "metadata": {},
   "source": [
    "## Avg W2V"
   ]
  },
  {
   "cell_type": "code",
   "execution_count": 84,
   "metadata": {},
   "outputs": [],
   "source": [
    "# stronging variables into pickle files python:\n",
    "#http://www.jessicayung.com/how-to-use-pickle-to-save-and-load-variables-in-python/\n",
    "# make sure you have the glove_vectors file\n",
    "with open('../glove_vectors', 'rb') as f:\n",
    "    model = pickle.load(f)\n",
    "    glove_words =  set(model.keys())"
   ]
  },
  {
   "cell_type": "code",
   "execution_count": 85,
   "metadata": {},
   "outputs": [],
   "source": [
    "# average Word2Vec\n",
    "def avg_w2vec(glove_words,feature_values):\n",
    "    # compute average word2vec for each review.\n",
    "    avg_w2v_vec = []; # the avg-w2v for each sentence/review is stored in this list\n",
    "    \n",
    "    for sent in tqdm(feature_values): # for each review/sentence\n",
    "        sent_vec = np.zeros(300) # as word vectors are of zero length 300, you might need to \n",
    "        #change this to 300 if you use google's w2v\n",
    "        cnt_words =0; # num of words with a valid vector in the sentence/review\n",
    "        for word in sent.split(): # for each word in a review/sentence\n",
    "            if word in glove_words:\n",
    "                sent_vec += model[word]\n",
    "                cnt_words += 1\n",
    "        if cnt_words != 0:\n",
    "            sent_vec /= cnt_words\n",
    "        avg_w2v_vec.append(sent_vec)\n",
    "       \n",
    "    print(len(avg_w2v_vec))\n",
    "    print(len(avg_w2v_vec[0]))\n",
    "    \n",
    "    return avg_w2v_vec"
   ]
  },
  {
   "cell_type": "markdown",
   "metadata": {},
   "source": [
    "###  project_title"
   ]
  },
  {
   "cell_type": "code",
   "execution_count": 86,
   "metadata": {},
   "outputs": [
    {
     "name": "stderr",
     "output_type": "stream",
     "text": [
      "100%|██████████| 76473/76473 [00:01<00:00, 66232.80it/s]"
     ]
    },
    {
     "name": "stdout",
     "output_type": "stream",
     "text": [
      "76473\n",
      "300\n"
     ]
    },
    {
     "name": "stderr",
     "output_type": "stream",
     "text": [
      "\n"
     ]
    }
   ],
   "source": [
    "X_tr_title=avg_w2vec(glove_words,X_train.project_title.values)\n"
   ]
  },
  {
   "cell_type": "code",
   "execution_count": 87,
   "metadata": {},
   "outputs": [
    {
     "name": "stderr",
     "output_type": "stream",
     "text": [
      "100%|██████████| 32775/32775 [00:00<00:00, 66271.54it/s]"
     ]
    },
    {
     "name": "stdout",
     "output_type": "stream",
     "text": [
      "32775\n",
      "300\n"
     ]
    },
    {
     "name": "stderr",
     "output_type": "stream",
     "text": [
      "\n"
     ]
    }
   ],
   "source": [
    "X_te_title=avg_w2vec(glove_words,X_test.project_title.values)"
   ]
  },
  {
   "cell_type": "markdown",
   "metadata": {},
   "source": [
    "### essay"
   ]
  },
  {
   "cell_type": "code",
   "execution_count": 88,
   "metadata": {},
   "outputs": [
    {
     "name": "stderr",
     "output_type": "stream",
     "text": [
      "100%|██████████| 76473/76473 [00:22<00:00, 3458.36it/s]"
     ]
    },
    {
     "name": "stdout",
     "output_type": "stream",
     "text": [
      "76473\n",
      "300\n"
     ]
    },
    {
     "name": "stderr",
     "output_type": "stream",
     "text": [
      "\n"
     ]
    }
   ],
   "source": [
    "X_tr_essay=avg_w2vec(glove_words,X_train.essay.values)\n"
   ]
  },
  {
   "cell_type": "code",
   "execution_count": 89,
   "metadata": {},
   "outputs": [
    {
     "name": "stderr",
     "output_type": "stream",
     "text": [
      "100%|██████████| 32775/32775 [00:09<00:00, 3415.11it/s]"
     ]
    },
    {
     "name": "stdout",
     "output_type": "stream",
     "text": [
      "32775\n",
      "300\n"
     ]
    },
    {
     "name": "stderr",
     "output_type": "stream",
     "text": [
      "\n"
     ]
    }
   ],
   "source": [
    "X_te_essay=avg_w2vec(glove_words,X_test.essay.values)"
   ]
  },
  {
   "cell_type": "markdown",
   "metadata": {},
   "source": [
    "###  project_resource_summary"
   ]
  },
  {
   "cell_type": "code",
   "execution_count": 90,
   "metadata": {},
   "outputs": [
    {
     "name": "stderr",
     "output_type": "stream",
     "text": [
      "100%|██████████| 76473/76473 [00:03<00:00, 24765.11it/s]"
     ]
    },
    {
     "name": "stdout",
     "output_type": "stream",
     "text": [
      "76473\n",
      "300\n"
     ]
    },
    {
     "name": "stderr",
     "output_type": "stream",
     "text": [
      "\n"
     ]
    }
   ],
   "source": [
    "X_tr_resource=avg_w2vec(glove_words,X_train.project_resource_summary.values)"
   ]
  },
  {
   "cell_type": "code",
   "execution_count": 91,
   "metadata": {},
   "outputs": [
    {
     "name": "stderr",
     "output_type": "stream",
     "text": [
      "100%|██████████| 32775/32775 [00:01<00:00, 25233.30it/s]"
     ]
    },
    {
     "name": "stdout",
     "output_type": "stream",
     "text": [
      "32775\n",
      "300\n"
     ]
    },
    {
     "name": "stderr",
     "output_type": "stream",
     "text": [
      "\n"
     ]
    }
   ],
   "source": [
    "X_te_resource=avg_w2vec(glove_words,X_test.project_resource_summary.values)"
   ]
  },
  {
   "cell_type": "code",
   "execution_count": 92,
   "metadata": {},
   "outputs": [],
   "source": [
    "X_train_awv=hstack((X_tr_vec,X_tr_title,X_tr_essay,X_tr_resource)).tocsr()\n",
    "X_test_awv=hstack((X_te_vec,X_te_title,X_te_essay,X_te_resource)).tocsr()"
   ]
  },
  {
   "cell_type": "code",
   "execution_count": 93,
   "metadata": {},
   "outputs": [
    {
     "name": "stdout",
     "output_type": "stream",
     "text": [
      "Average Word 2 vector:\n",
      "Training data set shape : (76473, 1001)\n",
      "Test data set shape : (32775, 1001)\n"
     ]
    }
   ],
   "source": [
    "print(\"Average Word 2 vector:\")\n",
    "print(\"Training data set shape :\",X_train_awv.shape)\n",
    "print(\"Test data set shape :\",X_test_awv.shape)"
   ]
  },
  {
   "cell_type": "code",
   "execution_count": 94,
   "metadata": {},
   "outputs": [],
   "source": [
    "# Release the memory \n",
    "del X_tr_title\n",
    "del X_te_title\n",
    "\n",
    "del X_tr_resource\n",
    "del X_te_resource\n",
    "\n",
    "del X_tr_essay\n",
    "del X_te_essay"
   ]
  },
  {
   "cell_type": "markdown",
   "metadata": {},
   "source": [
    "### Find the right 'C' and build the Classifier "
   ]
  },
  {
   "cell_type": "code",
   "execution_count": 95,
   "metadata": {},
   "outputs": [
    {
     "name": "stderr",
     "output_type": "stream",
     "text": [
      "100%|██████████| 8/8 [32:48<00:00, 246.09s/it]\n"
     ]
    },
    {
     "data": {
      "image/png": "[encoded data removed]",
      "text/plain": [
       "<Figure size 432x288 with 1 Axes>"
      ]
     },
     "metadata": {},
     "output_type": "display_data"
    }
   ],
   "source": [
    "cross_validate_plot(c_values,X_train_awv,y_train)"
   ]
  },
  {
   "cell_type": "code",
   "execution_count": 96,
   "metadata": {},
   "outputs": [
    {
     "name": "stdout",
     "output_type": "stream",
     "text": [
      "'C' Values to the power  of 10: [-4. -3. -2. -1.  0.  1.  2.  3.]\n"
     ]
    }
   ],
   "source": [
    "print(\"'C' Values to the power  of 10:\",np.log10(c_values))"
   ]
  },
  {
   "cell_type": "code",
   "execution_count": 115,
   "metadata": {},
   "outputs": [],
   "source": [
    "best_model.C=10**-1"
   ]
  },
  {
   "cell_type": "code",
   "execution_count": 116,
   "metadata": {},
   "outputs": [
    {
     "data": {
      "image/png": "[encoded data removed]",
      "text/plain": [
       "<Figure size 432x288 with 1 Axes>"
      ]
     },
     "metadata": {},
     "output_type": "display_data"
    },
    {
     "name": "stdout",
     "output_type": "stream",
     "text": [
      "------------------------------------------------------------------------------------------\n",
      "The Maximum value of 'TPR*(1-FPR)' is 0.46285593593376706 for 'THRESHOLD VALUE'of 0.505\n",
      "------------------------------------------------------------------------------------------\n"
     ]
    },
    {
     "data": {
      "image/png": "[encoded data removed]",
      "text/plain": [
       "<Figure size 432x288 with 2 Axes>"
      ]
     },
     "metadata": {},
     "output_type": "display_data"
    },
    {
     "data": {
      "image/png": "[encoded data removed]",
      "text/plain": [
       "<Figure size 432x288 with 2 Axes>"
      ]
     },
     "metadata": {},
     "output_type": "display_data"
    },
    {
     "name": "stdout",
     "output_type": "stream",
     "text": [
      "+-------------------+---------------+\n",
      "| Training Accuracy | Test Accuracy |\n",
      "+-------------------+---------------+\n",
      "|       0.674       |     0.661     |\n",
      "+-------------------+---------------+\n"
     ]
    }
   ],
   "source": [
    "build_best_model_plot_roc(best_model,X_train_awv,y_train,X_test_awv,y_test)"
   ]
  },
  {
   "cell_type": "code",
   "execution_count": 117,
   "metadata": {},
   "outputs": [],
   "source": [
    "del X_train_awv\n",
    "del X_test_awv"
   ]
  },
  {
   "cell_type": "markdown",
   "metadata": {},
   "source": [
    "## TF-IDF AW2V"
   ]
  },
  {
   "cell_type": "code",
   "execution_count": 97,
   "metadata": {},
   "outputs": [],
   "source": [
    "def tfidf_avgw2v(glove_words,tfidf_words,feature_values):\n",
    "    processed_tfidf_w2v= []; # the avg-w2v for TITLE is stored in this list\n",
    "    for sentence in tqdm(feature_values): # for each TITLE\n",
    "        vector = np.zeros(300) # as word vectors are of zero length\n",
    "        tf_idf_weight =0; # num of words with a valid vector in the TITLE\n",
    "        for word in sentence.split(): # for each word in a review/sentence\n",
    "            if (word in glove_words) and (word in tfidf_words):\n",
    "                vec = model[word] # getting the vector for each word\n",
    "                # here we are multiplying idf value(dictionary[word]) and \n",
    "                #the tf value((sentence.count(word)/len(sentence.split())))\n",
    "                tf_idf = dictionary[word]*(sentence.count(word)/len(sentence.split())) \n",
    "                # getting the tfidf value for each word\n",
    "                vector += (vec * tf_idf) # calculating tfidf weighted w2v\n",
    "                tf_idf_weight += tf_idf\n",
    "        if tf_idf_weight != 0:\n",
    "            vector /= tf_idf_weight\n",
    "        processed_tfidf_w2v.append(vector)\n",
    "\n",
    "    print(len(processed_tfidf_w2v))\n",
    "    print(len(processed_tfidf_w2v[0]))\n",
    "    \n",
    "    return processed_tfidf_w2v"
   ]
  },
  {
   "cell_type": "markdown",
   "metadata": {},
   "source": [
    "### essay"
   ]
  },
  {
   "cell_type": "code",
   "execution_count": 98,
   "metadata": {},
   "outputs": [],
   "source": [
    "tfidf_model = TfidfVectorizer()\n",
    "tfidf_model.fit(X_train.essay.values)\n",
    "dictionary = dict(zip(tfidf_model.get_feature_names(), list(tfidf_model.idf_)))\n",
    "tfidf_words = set(tfidf_model.get_feature_names())"
   ]
  },
  {
   "cell_type": "code",
   "execution_count": 99,
   "metadata": {},
   "outputs": [
    {
     "name": "stderr",
     "output_type": "stream",
     "text": [
      "100%|██████████| 76473/76473 [02:30<00:00, 509.60it/s]"
     ]
    },
    {
     "name": "stdout",
     "output_type": "stream",
     "text": [
      "76473\n",
      "300\n"
     ]
    },
    {
     "name": "stderr",
     "output_type": "stream",
     "text": [
      "\n"
     ]
    }
   ],
   "source": [
    "X_tr_essay= tfidf_avgw2v(glove_words,tfidf_words,X_train.essay.values)"
   ]
  },
  {
   "cell_type": "code",
   "execution_count": 100,
   "metadata": {},
   "outputs": [
    {
     "name": "stderr",
     "output_type": "stream",
     "text": [
      "100%|██████████| 32775/32775 [01:00<00:00, 537.75it/s]\n"
     ]
    },
    {
     "name": "stdout",
     "output_type": "stream",
     "text": [
      "32775\n",
      "300\n"
     ]
    }
   ],
   "source": [
    "X_te_essay= tfidf_avgw2v(glove_words,tfidf_words,X_test.essay.values)\n"
   ]
  },
  {
   "cell_type": "markdown",
   "metadata": {},
   "source": [
    "### project_title"
   ]
  },
  {
   "cell_type": "code",
   "execution_count": 101,
   "metadata": {},
   "outputs": [],
   "source": [
    "tfidf_model = TfidfVectorizer()\n",
    "tfidf_model.fit(X_train.project_title.values)\n",
    "dictionary = dict(zip(tfidf_model.get_feature_names(), list(tfidf_model.idf_)))\n",
    "tfidf_words = set(tfidf_model.get_feature_names())"
   ]
  },
  {
   "cell_type": "code",
   "execution_count": 102,
   "metadata": {},
   "outputs": [
    {
     "name": "stderr",
     "output_type": "stream",
     "text": [
      "100%|██████████| 76473/76473 [00:02<00:00, 28644.64it/s]"
     ]
    },
    {
     "name": "stdout",
     "output_type": "stream",
     "text": [
      "76473\n",
      "300\n"
     ]
    },
    {
     "name": "stderr",
     "output_type": "stream",
     "text": [
      "\n"
     ]
    }
   ],
   "source": [
    "X_tr_title=tfidf_avgw2v(glove_words,tfidf_words,X_train.project_title.values)"
   ]
  },
  {
   "cell_type": "code",
   "execution_count": 103,
   "metadata": {},
   "outputs": [
    {
     "name": "stderr",
     "output_type": "stream",
     "text": [
      "100%|██████████| 32775/32775 [00:01<00:00, 29168.83it/s]"
     ]
    },
    {
     "name": "stdout",
     "output_type": "stream",
     "text": [
      "32775\n",
      "300\n"
     ]
    },
    {
     "name": "stderr",
     "output_type": "stream",
     "text": [
      "\n"
     ]
    }
   ],
   "source": [
    "X_te_title=tfidf_avgw2v(glove_words,tfidf_words,X_test.project_title.values)"
   ]
  },
  {
   "cell_type": "markdown",
   "metadata": {},
   "source": [
    "### project_resource_summary"
   ]
  },
  {
   "cell_type": "code",
   "execution_count": 104,
   "metadata": {},
   "outputs": [],
   "source": [
    "tfidf_model = TfidfVectorizer()\n",
    "tfidf_model.fit(X_train.project_resource_summary.values)\n",
    "dictionary = dict(zip(tfidf_model.get_feature_names(), list(tfidf_model.idf_)))\n",
    "tfidf_words = set(tfidf_model.get_feature_names())"
   ]
  },
  {
   "cell_type": "code",
   "execution_count": 105,
   "metadata": {},
   "outputs": [
    {
     "name": "stderr",
     "output_type": "stream",
     "text": [
      "100%|██████████| 76473/76473 [00:08<00:00, 9481.38it/s] "
     ]
    },
    {
     "name": "stdout",
     "output_type": "stream",
     "text": [
      "76473\n",
      "300\n"
     ]
    },
    {
     "name": "stderr",
     "output_type": "stream",
     "text": [
      "\n"
     ]
    }
   ],
   "source": [
    "X_tr_resource=tfidf_avgw2v(glove_words,tfidf_words,X_train.project_resource_summary.values)"
   ]
  },
  {
   "cell_type": "code",
   "execution_count": 106,
   "metadata": {},
   "outputs": [
    {
     "name": "stderr",
     "output_type": "stream",
     "text": [
      "100%|██████████| 32775/32775 [00:03<00:00, 9585.32it/s]"
     ]
    },
    {
     "name": "stdout",
     "output_type": "stream",
     "text": [
      "32775\n",
      "300\n"
     ]
    },
    {
     "name": "stderr",
     "output_type": "stream",
     "text": [
      "\n"
     ]
    }
   ],
   "source": [
    "X_te_resource=tfidf_avgw2v(glove_words,tfidf_words,X_test.project_resource_summary.values)"
   ]
  },
  {
   "cell_type": "code",
   "execution_count": 107,
   "metadata": {},
   "outputs": [],
   "source": [
    "X_train_tfidfawv=hstack((X_tr_vec,X_tr_title,X_tr_essay,X_tr_resource)).tocsr()\n",
    "X_test_tfidfawv=hstack((X_te_vec,X_te_title,X_te_essay,X_te_resource)).tocsr()"
   ]
  },
  {
   "cell_type": "code",
   "execution_count": 108,
   "metadata": {},
   "outputs": [
    {
     "name": "stdout",
     "output_type": "stream",
     "text": [
      "Average Word 2 vector:\n",
      "Training data set shape : (76473, 1001)\n",
      "Test data set shape : (32775, 1001)\n"
     ]
    }
   ],
   "source": [
    "print(\"Average Word 2 vector:\")\n",
    "print(\"Training data set shape :\",X_train_tfidfawv.shape)\n",
    "print(\"Test data set shape :\",X_test_tfidfawv.shape)"
   ]
  },
  {
   "cell_type": "code",
   "execution_count": 109,
   "metadata": {},
   "outputs": [],
   "source": [
    "# Release the memory \n",
    "del X_tr_title\n",
    "del X_te_title\n",
    "\n",
    "del X_tr_resource\n",
    "del X_te_resource\n",
    "\n",
    "del X_tr_essay\n",
    "del X_te_essay"
   ]
  },
  {
   "cell_type": "markdown",
   "metadata": {},
   "source": [
    "###  Find the right 'C' and build the Classifier"
   ]
  },
  {
   "cell_type": "code",
   "execution_count": 110,
   "metadata": {},
   "outputs": [
    {
     "name": "stderr",
     "output_type": "stream",
     "text": [
      "100%|██████████| 8/8 [36:56<00:00, 277.06s/it]\n"
     ]
    },
    {
     "data": {
      "image/png": "[encoded data removed]",
      "text/plain": [
       "<Figure size 432x288 with 1 Axes>"
      ]
     },
     "metadata": {},
     "output_type": "display_data"
    }
   ],
   "source": [
    "cross_validate_plot(c_values,X_train_tfidfawv,y_train)"
   ]
  },
  {
   "cell_type": "code",
   "execution_count": 111,
   "metadata": {},
   "outputs": [
    {
     "name": "stdout",
     "output_type": "stream",
     "text": [
      "'C' Values to the power  of 10: [-4. -3. -2. -1.  0.  1.  2.  3.]\n"
     ]
    }
   ],
   "source": [
    "print(\"'C' Values to the power  of 10:\",np.log10(c_values))"
   ]
  },
  {
   "cell_type": "code",
   "execution_count": 112,
   "metadata": {},
   "outputs": [],
   "source": [
    "best_model.C=10**-2"
   ]
  },
  {
   "cell_type": "code",
   "execution_count": 113,
   "metadata": {},
   "outputs": [
    {
     "data": {
      "image/png": "[encoded data removed]",
      "text/plain": [
       "<Figure size 432x288 with 1 Axes>"
      ]
     },
     "metadata": {},
     "output_type": "display_data"
    },
    {
     "name": "stdout",
     "output_type": "stream",
     "text": [
      "------------------------------------------------------------------------------------------\n",
      "The Maximum value of 'TPR*(1-FPR)' is 0.4494164396463019 for 'THRESHOLD VALUE'of 0.483\n",
      "------------------------------------------------------------------------------------------\n"
     ]
    },
    {
     "data": {
      "image/png": "[encoded data removed]",
      "text/plain": [
       "<Figure size 432x288 with 2 Axes>"
      ]
     },
     "metadata": {},
     "output_type": "display_data"
    },
    {
     "data": {
      "image/png": "[encoded data removed]",
      "text/plain": [
       "<Figure size 432x288 with 2 Axes>"
      ]
     },
     "metadata": {},
     "output_type": "display_data"
    },
    {
     "name": "stdout",
     "output_type": "stream",
     "text": [
      "+-------------------+---------------+\n",
      "| Training Accuracy | Test Accuracy |\n",
      "+-------------------+---------------+\n",
      "|       0.686       |     0.674     |\n",
      "+-------------------+---------------+\n"
     ]
    }
   ],
   "source": [
    "\n",
    "build_best_model_plot_roc(best_model,X_train_tfidfawv,y_train,X_test_tfidfawv,y_test)"
   ]
  },
  {
   "cell_type": "code",
   "execution_count": 114,
   "metadata": {},
   "outputs": [],
   "source": [
    "del X_train_tfidfawv\n",
    "del X_test_tfidfawv"
   ]
  },
  {
   "cell_type": "markdown",
   "metadata": {},
   "source": [
    "# Task-2"
   ]
  },
  {
   "cell_type": "markdown",
   "metadata": {},
   "source": [
    "## Dealing without Text data"
   ]
  },
  {
   "cell_type": "code",
   "execution_count": 118,
   "metadata": {},
   "outputs": [],
   "source": [
    "c_values_no_text=[10**i  for i in range(-4,5)]\n",
    "#to getclear understanding of overfiting added one more value to c_values"
   ]
  },
  {
   "cell_type": "code",
   "execution_count": 119,
   "metadata": {},
   "outputs": [
    {
     "name": "stderr",
     "output_type": "stream",
     "text": [
      "100%|██████████| 9/9 [01:12<00:00,  8.04s/it]\n"
     ]
    },
    {
     "data": {
      "image/png": "[encoded data removed]",
      "text/plain": [
       "<Figure size 432x288 with 1 Axes>"
      ]
     },
     "metadata": {},
     "output_type": "display_data"
    }
   ],
   "source": [
    "cross_validate_plot(c_values_no_text,X_tr_vec,y_train)"
   ]
  },
  {
   "cell_type": "code",
   "execution_count": 120,
   "metadata": {},
   "outputs": [],
   "source": [
    "best_model.C=10**2"
   ]
  },
  {
   "cell_type": "code",
   "execution_count": 121,
   "metadata": {},
   "outputs": [
    {
     "data": {
      "image/png": "[encoded data removed]",
      "text/plain": [
       "<Figure size 432x288 with 1 Axes>"
      ]
     },
     "metadata": {},
     "output_type": "display_data"
    },
    {
     "name": "stdout",
     "output_type": "stream",
     "text": [
      "------------------------------------------------------------------------------------------\n",
      "The Maximum value of 'TPR*(1-FPR)' is 0.34155065921569444 for 'THRESHOLD VALUE'of 0.5\n",
      "------------------------------------------------------------------------------------------\n"
     ]
    },
    {
     "data": {
      "image/png": "[encoded data removed]",
      "text/plain": [
       "<Figure size 432x288 with 2 Axes>"
      ]
     },
     "metadata": {},
     "output_type": "display_data"
    },
    {
     "data": {
      "image/png": "[encoded data removed]",
      "text/plain": [
       "<Figure size 432x288 with 2 Axes>"
      ]
     },
     "metadata": {},
     "output_type": "display_data"
    },
    {
     "name": "stdout",
     "output_type": "stream",
     "text": [
      "+-------------------+---------------+\n",
      "| Training Accuracy | Test Accuracy |\n",
      "+-------------------+---------------+\n",
      "|       0.582       |     0.533     |\n",
      "+-------------------+---------------+\n"
     ]
    }
   ],
   "source": [
    "build_best_model_plot_roc(best_model,X_tr_vec,y_train,X_te_vec,y_test)"
   ]
  },
  {
   "cell_type": "markdown",
   "metadata": {},
   "source": [
    "## Summary"
   ]
  },
  {
   "cell_type": "code",
   "execution_count": 124,
   "metadata": {},
   "outputs": [
    {
     "name": "stdout",
     "output_type": "stream",
     "text": [
      "+----------+---------------+----------------+-------------+-----------+----------+------------------------+\n",
      "|  Model   |   Vectorizer  | Method for CV  |   Opt Parm  | Train AUC | Test AUC | Accuracy(Train & Test) |\n",
      "+----------+---------------+----------------+-------------+-----------+----------+------------------------+\n",
      "| Logistic |     TF-IDF    | Cross_validate |  L2 & C:0.1 |   0.8225  |  0.7303  |     0.736 & 0.694      |\n",
      "+----------+---------------+----------------+-------------+-----------+----------+------------------------+\n",
      "| Logistic |      BOW      | Cross_validate | L2 & C:.001 |   0.7811  |  0.7292  |     0.713 & 0.686      |\n",
      "+----------+---------------+----------------+-------------+-----------+----------+------------------------+\n",
      "| Logistic |    AVG W2V    | Cross_validate |  L2 & C:0.1 |   0.7417  |  0.7131  |     0.674 & 0.661      |\n",
      "+----------+---------------+----------------+-------------+-----------+----------+------------------------+\n",
      "| Logistic | TF-IDF AVGW2V | Cross_validate | L2 & C:0.01 |   0.7286  |  0.704   |     0.686 & 0.674      |\n",
      "+----------+---------------+----------------+-------------+-----------+----------+------------------------+\n",
      "| Logistic |       -       | Cross_validate |  L2 & C:100 |   0.6159  |  0.6106  |     0.582 & 0.533      |\n",
      "+----------+---------------+----------------+-------------+-----------+----------+------------------------+\n"
     ]
    }
   ],
   "source": [
    "summary_table = PrettyTable()\n",
    "summary_table.hrules=True\n",
    "\n",
    "summary_table.field_names=['Model',\"Vectorizer\", \"Method for CV\",\"Opt Parm\",\"Train AUC\", \"Test AUC\",'Accuracy(Train & Test)']\n",
    "summary_table.add_row(['Logistic',\"BOW\", 'Cross_validate', 'L2 & C:.001', .7811,.7292,'0.713 & 0.686'])\n",
    "summary_table.add_row(['Logistic',\"TF-IDF\", 'Cross_validate', 'L2 & C:0.1', .8225,.7303,'0.736 & 0.694'])\n",
    "summary_table.add_row(['Logistic',\"AVG W2V\", 'Cross_validate', 'L2 & C:0.1', .7417,.7131,'0.674 & 0.661'])\n",
    "summary_table.add_row(['Logistic',\"TF-IDF AVGW2V\", 'Cross_validate','L2 & C:0.01', .7286,.704,'0.686 & 0.674'])\n",
    "summary_table.add_row(['Logistic',\"-\", 'Cross_validate','L2 & C:100', .6159,.6106,'0.582 & 0.533'])\n",
    "\n",
    "summary_table.sortby='Test AUC'\n",
    "summary_table.reversesort=True\n",
    "print(summary_table)\n"
   ]
  },
  {
   "cell_type": "code",
   "execution_count": null,
   "metadata": {},
   "outputs": [],
   "source": []
  }
 ],
 "metadata": {
  "colab": {
   "name": "Untitled1.ipynb",
   "private_outputs": true,
   "provenance": [],
   "version": "0.3.2"
  },
  "kernelspec": {
   "display_name": "Python 3",
   "language": "python",
   "name": "python3"
  },
  "language_info": {
   "codemirror_mode": {
    "name": "ipython",
    "version": 3
   },
   "file_extension": ".py",
   "mimetype": "text/x-python",
   "name": "python",
   "nbconvert_exporter": "python",
   "pygments_lexer": "ipython3",
   "version": "3.5.5"
  }
 },
 "nbformat": 4,
 "nbformat_minor": 1
}
